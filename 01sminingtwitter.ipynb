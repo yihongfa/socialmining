{
 "cells": [
  {
   "cell_type": "markdown",
   "metadata": {
    "slideshow": {
     "slide_type": "slide"
    }
   },
   "source": [
    "# <center>Twitter 文本挖掘</center>"
   ]
  },
  {
   "cell_type": "markdown",
   "metadata": {
    "slideshow": {
     "slide_type": "fragment"
    }
   },
   "source": [
    "<center>易红发 yihongfa@yeah.net"
   ]
  },
  {
   "cell_type": "markdown",
   "metadata": {
    "slideshow": {
     "slide_type": "slide"
    }
   },
   "source": [
    "# Python入门"
   ]
  },
  {
   "cell_type": "markdown",
   "metadata": {
    "slideshow": {
     "slide_type": "fragment"
    }
   },
   "source": [
    "## 一 列表 list"
   ]
  },
  {
   "cell_type": "code",
   "execution_count": 1,
   "metadata": {
    "collapsed": true,
    "slideshow": {
     "slide_type": "fragment"
    }
   },
   "outputs": [],
   "source": [
    "l1 = ['yuwen', 'shuxue', 'wuli', 80, 99, 78]\n",
    "l2 = [1,2,3,4,5,6,7,8]\n",
    "l3 = ['a', 'b', 'c', 'd', 'e']"
   ]
  },
  {
   "cell_type": "markdown",
   "metadata": {
    "slideshow": {
     "slide_type": "slide"
    }
   },
   "source": [
    "### 索引与切片"
   ]
  },
  {
   "cell_type": "code",
   "execution_count": 2,
   "metadata": {
    "collapsed": false,
    "scrolled": true,
    "slideshow": {
     "slide_type": "fragment"
    }
   },
   "outputs": [
    {
     "name": "stdout",
     "output_type": "stream",
     "text": [
      "shuxue\n",
      "\n",
      "1\n",
      "\n",
      "['b', 'c']\n"
     ]
    }
   ],
   "source": [
    "print l1[1]\n",
    "print\n",
    "print l2[0]\n",
    "print\n",
    "print l3[1:3]"
   ]
  },
  {
   "cell_type": "markdown",
   "metadata": {
    "slideshow": {
     "slide_type": "slide"
    }
   },
   "source": [
    "### 列表增删"
   ]
  },
  {
   "cell_type": "code",
   "execution_count": 8,
   "metadata": {
    "collapsed": false,
    "slideshow": {
     "slide_type": "fragment"
    }
   },
   "outputs": [
    {
     "name": "stdout",
     "output_type": "stream",
     "text": [
      "['yuwen', 'shuxue', 'wuli', 80, 99, 78, 'shengwu', 'shengwu']\n"
     ]
    }
   ],
   "source": [
    "l1.append('shengwu')\n",
    "print l1"
   ]
  },
  {
   "cell_type": "code",
   "execution_count": 9,
   "metadata": {
    "collapsed": false,
    "slideshow": {
     "slide_type": "fragment"
    }
   },
   "outputs": [
    {
     "name": "stdout",
     "output_type": "stream",
     "text": [
      "['yuwen', 'shuxue', 'wuli', 80, 99, 78, 'shengwu']\n"
     ]
    }
   ],
   "source": [
    "l1.remove('shengwu')\n",
    "print l1"
   ]
  },
  {
   "cell_type": "code",
   "execution_count": 10,
   "metadata": {
    "collapsed": false,
    "slideshow": {
     "slide_type": "fragment"
    }
   },
   "outputs": [
    {
     "name": "stdout",
     "output_type": "stream",
     "text": [
      "[1, 3, 4, 5, 6, 7, 8]\n"
     ]
    }
   ],
   "source": [
    "del l2[1]\n",
    "print l2"
   ]
  },
  {
   "cell_type": "code",
   "execution_count": 12,
   "metadata": {
    "collapsed": false,
    "slideshow": {
     "slide_type": "slide"
    }
   },
   "outputs": [
    {
     "name": "stdout",
     "output_type": "stream",
     "text": [
      "['a', 'b', 'c', 'd', 'e', 'f', 'f']\n"
     ]
    }
   ],
   "source": [
    "l3.extend('f')\n",
    "print l3"
   ]
  },
  {
   "cell_type": "code",
   "execution_count": 13,
   "metadata": {
    "collapsed": false,
    "slideshow": {
     "slide_type": "fragment"
    }
   },
   "outputs": [
    {
     "name": "stdout",
     "output_type": "stream",
     "text": [
      "['yuwen', 'shuxue', 'wuli', 80, 99, 78, 'shengwu', 'dili', 78, 'lishi', 89]\n"
     ]
    }
   ],
   "source": [
    "l1.extend(['dili', 78, 'lishi', 89])\n",
    "print l1"
   ]
  },
  {
   "cell_type": "code",
   "execution_count": 14,
   "metadata": {
    "collapsed": false,
    "slideshow": {
     "slide_type": "fragment"
    }
   },
   "outputs": [
    {
     "name": "stdout",
     "output_type": "stream",
     "text": [
      "['yuwen', 'shuxue', 'wuli', 80, 99, 78, 'shengwu', 'dili', 78, 'lishi', 89, ['dili', 78, 'lishi', 89]]\n"
     ]
    }
   ],
   "source": [
    "l1.append(['dili', 78, 'lishi', 89])\n",
    "print l1"
   ]
  },
  {
   "cell_type": "markdown",
   "metadata": {
    "slideshow": {
     "slide_type": "slide"
    }
   },
   "source": [
    "### 列表推导"
   ]
  },
  {
   "cell_type": "markdown",
   "metadata": {
    "slideshow": {
     "slide_type": "fragment"
    }
   },
   "source": [
    "l2中的元素如何都加上2"
   ]
  },
  {
   "cell_type": "code",
   "execution_count": 17,
   "metadata": {
    "collapsed": false,
    "slideshow": {
     "slide_type": "fragment"
    }
   },
   "outputs": [
    {
     "name": "stdout",
     "output_type": "stream",
     "text": [
      "[3, 5, 6, 7, 8, 9, 10]\n"
     ]
    }
   ],
   "source": [
    "ls=[]\n",
    "for i in l2:\n",
    "    i+=2\n",
    "    ls.append(i)\n",
    "\n",
    "print ls"
   ]
  },
  {
   "cell_type": "code",
   "execution_count": 18,
   "metadata": {
    "collapsed": false,
    "slideshow": {
     "slide_type": "fragment"
    }
   },
   "outputs": [
    {
     "data": {
      "text/plain": [
       "[3, 5, 6, 7, 8, 9, 10]"
      ]
     },
     "execution_count": 18,
     "metadata": {},
     "output_type": "execute_result"
    }
   ],
   "source": [
    "[i+2 for i in l2]"
   ]
  },
  {
   "cell_type": "markdown",
   "metadata": {
    "slideshow": {
     "slide_type": "slide"
    }
   },
   "source": [
    "## 二 字典 dict"
   ]
  },
  {
   "cell_type": "markdown",
   "metadata": {
    "slideshow": {
     "slide_type": "fragment"
    }
   },
   "source": [
    "d = {key1:value1, key2:value2}  \n",
    "键必须唯一"
   ]
  },
  {
   "cell_type": "code",
   "execution_count": 19,
   "metadata": {
    "collapsed": true,
    "slideshow": {
     "slide_type": "fragment"
    }
   },
   "outputs": [],
   "source": [
    "dict1 = {'shuxue':88, 'yuwen':77, 'yingyu':99}"
   ]
  },
  {
   "cell_type": "markdown",
   "metadata": {
    "slideshow": {
     "slide_type": "slide"
    }
   },
   "source": [
    "### 索引"
   ]
  },
  {
   "cell_type": "code",
   "execution_count": 20,
   "metadata": {
    "collapsed": false,
    "slideshow": {
     "slide_type": "fragment"
    }
   },
   "outputs": [
    {
     "ename": "KeyError",
     "evalue": "1",
     "output_type": "error",
     "traceback": [
      "\u001b[0;31m---------------------------------------------------------------------------\u001b[0m",
      "\u001b[0;31mKeyError\u001b[0m                                  Traceback (most recent call last)",
      "\u001b[0;32m<ipython-input-20-41843bbe28ab>\u001b[0m in \u001b[0;36m<module>\u001b[0;34m()\u001b[0m\n\u001b[0;32m----> 1\u001b[0;31m \u001b[1;32mprint\u001b[0m \u001b[0mdict1\u001b[0m\u001b[1;33m[\u001b[0m\u001b[1;36m1\u001b[0m\u001b[1;33m]\u001b[0m\u001b[1;33m\u001b[0m\u001b[0m\n\u001b[0m",
      "\u001b[0;31mKeyError\u001b[0m: 1"
     ]
    }
   ],
   "source": [
    "print dict1[1]"
   ]
  },
  {
   "cell_type": "code",
   "execution_count": 21,
   "metadata": {
    "collapsed": false,
    "slideshow": {
     "slide_type": "fragment"
    }
   },
   "outputs": [
    {
     "name": "stdout",
     "output_type": "stream",
     "text": [
      "88\n"
     ]
    }
   ],
   "source": [
    "print dict1['shuxue']"
   ]
  },
  {
   "cell_type": "markdown",
   "metadata": {
    "slideshow": {
     "slide_type": "slide"
    }
   },
   "source": [
    "## 元组与集合"
   ]
  },
  {
   "cell_type": "code",
   "execution_count": 26,
   "metadata": {
    "collapsed": true,
    "slideshow": {
     "slide_type": "fragment"
    }
   },
   "outputs": [],
   "source": [
    "tup1 = (1,2,3)"
   ]
  },
  {
   "cell_type": "code",
   "execution_count": 27,
   "metadata": {
    "collapsed": false,
    "slideshow": {
     "slide_type": "fragment"
    }
   },
   "outputs": [
    {
     "ename": "TypeError",
     "evalue": "'tuple' object doesn't support item deletion",
     "output_type": "error",
     "traceback": [
      "\u001b[0;31m---------------------------------------------------------------------------\u001b[0m",
      "\u001b[0;31mTypeError\u001b[0m                                 Traceback (most recent call last)",
      "\u001b[0;32m<ipython-input-27-02b617834b5d>\u001b[0m in \u001b[0;36m<module>\u001b[0;34m()\u001b[0m\n\u001b[0;32m----> 1\u001b[0;31m \u001b[1;32mdel\u001b[0m \u001b[0mtup1\u001b[0m\u001b[1;33m[\u001b[0m\u001b[1;36m1\u001b[0m\u001b[1;33m]\u001b[0m\u001b[1;33m\u001b[0m\u001b[0m\n\u001b[0m",
      "\u001b[0;31mTypeError\u001b[0m: 'tuple' object doesn't support item deletion"
     ]
    }
   ],
   "source": [
    "del tup1[1]"
   ]
  },
  {
   "cell_type": "code",
   "execution_count": 28,
   "metadata": {
    "collapsed": true,
    "slideshow": {
     "slide_type": "slide"
    }
   },
   "outputs": [],
   "source": [
    "lp = [1,1,2,3,4,5,4,3,1,3,4,5,6,7,8,5,4,3,44,5,5,3,2,2,3]"
   ]
  },
  {
   "cell_type": "code",
   "execution_count": 29,
   "metadata": {
    "collapsed": false,
    "slideshow": {
     "slide_type": "fragment"
    }
   },
   "outputs": [
    {
     "name": "stdout",
     "output_type": "stream",
     "text": [
      "set([1, 2, 3, 4, 5, 6, 7, 8, 44])\n"
     ]
    }
   ],
   "source": [
    "sep = set(lp)\n",
    "print sep"
   ]
  },
  {
   "cell_type": "code",
   "execution_count": 30,
   "metadata": {
    "collapsed": false,
    "slideshow": {
     "slide_type": "fragment"
    }
   },
   "outputs": [
    {
     "name": "stdout",
     "output_type": "stream",
     "text": [
      "[1, 2, 3, 4, 5, 6, 7, 8, 44]\n"
     ]
    }
   ],
   "source": [
    "lps = list(sep)\n",
    "print lps"
   ]
  },
  {
   "cell_type": "markdown",
   "metadata": {
    "slideshow": {
     "slide_type": "slide"
    }
   },
   "source": [
    "# Twitter and Twitter API \n",
    "\n",
    "Twitter implements OAuth 1.0A as its standard authentication mechanism, and in order to use it to make requests to Twitter's API, you'll need to go to https://dev.twitter.com/apps and create a sample application. There are four primary identifiers you'll need to note for an OAuth 1.0A workflow: consumer key, consumer secret, access token, and access token secret. Note that you will need an ordinary Twitter account in order to login, create an app, and get these credentials.\n",
    "\n",
    "<img src=\"https://raw.githubusercontent.com/ptwobrussell/Mining-the-Social-Web-2nd-Edition/master/ipynb/resources/ch01-twitter/images/Twitter-AppCredentials.png\" width=\"600px\">"
   ]
  },
  {
   "cell_type": "markdown",
   "metadata": {
    "slideshow": {
     "slide_type": "fragment"
    }
   },
   "source": [
    "# <center>开始挖掘Twitter"
   ]
  },
  {
   "cell_type": "markdown",
   "metadata": {
    "slideshow": {
     "slide_type": "slide"
    }
   },
   "source": [
    "## 1. 创建一个应用程序并获得授权"
   ]
  },
  {
   "cell_type": "code",
   "execution_count": 7,
   "metadata": {
    "collapsed": false,
    "slideshow": {
     "slide_type": "fragment"
    }
   },
   "outputs": [
    {
     "name": "stdout",
     "output_type": "stream",
     "text": [
      "<twitter.api.Twitter object at 0x0000000004A6D940>\n"
     ]
    }
   ],
   "source": [
    "import twitter\n",
    "\n",
    "# XXX: Go to http://dev.twitter.com/apps/new to create an app and get values\n",
    "# for these credentials, which you'll need to provide in place of these\n",
    "# empty string values that are defined as placeholders.\n",
    "# See https://dev.twitter.com/docs/auth/oauth for more information \n",
    "# on Twitter's OAuth implementation.\n",
    "\n",
    "CONSUMER_KEY = 'sUSI6j1XZDmSgUbtn23uEYdU7'\n",
    "CONSUMER_SECRET ='SgbkeNc9knFLTJqG5FYSpggYu2Jvd1dDi0VxlYV8eySdfzQzTL'\n",
    "OAUTH_TOKEN = '2360603814-9UmdwpTg44wuFT5n3wlXwHvDTNgdn0a05pTVT3f'\n",
    "OAUTH_TOKEN_SECRET = 'zGPn0Ivxfq2rsHGRLXmKkuwQFUMMmQSROAIuDFuBJMrKt'\n",
    "\n",
    "auth = twitter.oauth.OAuth(OAUTH_TOKEN, OAUTH_TOKEN_SECRET,\n",
    "                           CONSUMER_KEY, CONSUMER_SECRET)\n",
    "\n",
    "twitter_api = twitter.Twitter(auth=auth)\n",
    "\n",
    "# Nothing to see by displaying twitter_api except that it's now a\n",
    "# defined variable\n",
    "\n",
    "print twitter_api"
   ]
  },
  {
   "cell_type": "markdown",
   "metadata": {
    "slideshow": {
     "slide_type": "slide"
    }
   },
   "source": [
    "## 2. 热门话题挖掘"
   ]
  },
  {
   "cell_type": "code",
   "execution_count": 8,
   "metadata": {
    "collapsed": false,
    "slideshow": {
     "slide_type": "fragment"
    }
   },
   "outputs": [
    {
     "name": "stdout",
     "output_type": "stream",
     "text": [
      "[{u'created_at': u'2017-03-04T06:38:05Z', u'trends': [{u'url': u'http://twitter.com/search?q=%23MaineCelebration', u'query': u'%23MaineCelebration', u'tweet_volume': 513462, u'name': u'#MaineCelebration', u'promoted_content': None}, {u'url': u'http://twitter.com/search?q=%23WeLoveYouAriana', u'query': u'%23WeLoveYouAriana', u'tweet_volume': 13763, u'name': u'#WeLoveYouAriana', u'promoted_content': None}, {u'url': u'http://twitter.com/search?q=%23%D9%87%D8%A7%D9%84%D8%AD%D8%B2%D9%87_%D9%88%D8%AF%D9%83_%D9%81%D9%8A', u'query': u'%23%D9%87%D8%A7%D9%84%D8%AD%D8%B2%D9%87_%D9%88%D8%AF%D9%83_%D9%81%D9%8A', u'tweet_volume': None, u'name': u'#\\u0647\\u0627\\u0644\\u062d\\u0632\\u0647_\\u0648\\u062f\\u0643_\\u0641\\u064a', u'promoted_content': None}, {u'url': u'http://twitter.com/search?q=%23PORvMIN', u'query': u'%23PORvMIN', u'tweet_volume': None, u'name': u'#PORvMIN', u'promoted_content': None}, {u'url': u'http://twitter.com/search?q=%23%E0%A4%95%E0%A4%BE%E0%A4%B6%E0%A5%80_%E0%A4%95%E0%A4%BE_%E0%A4%97%E0%A5%8C%E0%A4%B0%E0%A4%B5Modi', u'query': u'%23%E0%A4%95%E0%A4%BE%E0%A4%B6%E0%A5%80_%E0%A4%95%E0%A4%BE_%E0%A4%97%E0%A5%8C%E0%A4%B0%E0%A4%B5Modi', u'tweet_volume': None, u'name': u'#\\u0915\\u093e\\u0936\\u0940_\\u0915\\u093e_\\u0917\\u094c\\u0930\\u0935Modi', u'promoted_content': None}, {u'url': u'http://twitter.com/search?q=%22Simone+e+Simaria%22', u'query': u'%22Simone+e+Simaria%22', u'tweet_volume': 23165, u'name': u'Simone e Simaria', u'promoted_content': None}, {u'url': u'http://twitter.com/search?q=Cazuza', u'query': u'Cazuza', u'tweet_volume': None, u'name': u'Cazuza', u'promoted_content': None}, {u'url': u'http://twitter.com/search?q=%22Michael+Orozco%22', u'query': u'%22Michael+Orozco%22', u'tweet_volume': None, u'name': u'Michael Orozco', u'promoted_content': None}, {u'url': u'http://twitter.com/search?q=%22Patty+Mills%22', u'query': u'%22Patty+Mills%22', u'tweet_volume': None, u'name': u'Patty Mills', u'promoted_content': None}, {u'url': u'http://twitter.com/search?q=%E3%82%BB%E3%83%AC%E3%83%83%E3%82%BD', u'query': u'%E3%82%BB%E3%83%AC%E3%83%83%E3%82%BD', u'tweet_volume': None, u'name': u'\\u30bb\\u30ec\\u30c3\\u30bd', u'promoted_content': None}, {u'url': u'http://twitter.com/search?q=%22DIA+DE+GR%C3%8AMIO%22', u'query': u'%22DIA+DE+GR%C3%8AMIO%22', u'tweet_volume': None, u'name': u'DIA DE GR\\xcaMIO', u'promoted_content': None}, {u'url': u'http://twitter.com/search?q=Nazarenos', u'query': u'Nazarenos', u'tweet_volume': None, u'name': u'Nazarenos', u'promoted_content': None}, {u'url': u'http://twitter.com/search?q=%23TNTULtimateResbak', u'query': u'%23TNTULtimateResbak', u'tweet_volume': 14294, u'name': u'#TNTULtimateResbak', u'promoted_content': None}, {u'url': u'http://twitter.com/search?q=%23SabadoDeGanarSeguidores', u'query': u'%23SabadoDeGanarSeguidores', u'tweet_volume': None, u'name': u'#SabadoDeGanarSeguidores', u'promoted_content': None}, {u'url': u'http://twitter.com/search?q=%23NRLDragonsPanthers', u'query': u'%23NRLDragonsPanthers', u'tweet_volume': None, u'name': u'#NRLDragonsPanthers', u'promoted_content': None}, {u'url': u'http://twitter.com/search?q=%23%D9%84%D8%A7_%D9%84%D8%A7_%D9%84%D9%84%D8%A7%D8%AE%D8%AA%D8%A8%D8%A7%D8%B1%D8%A7%D8%AA_%D9%81%D9%8A_%D8%B1%D9%85%D8%B6%D8%A7%D9%86', u'query': u'%23%D9%84%D8%A7_%D9%84%D8%A7_%D9%84%D9%84%D8%A7%D8%AE%D8%AA%D8%A8%D8%A7%D8%B1%D8%A7%D8%AA_%D9%81%D9%8A_%D8%B1%D9%85%D8%B6%D8%A7%D9%86', u'tweet_volume': 13336, u'name': u'#\\u0644\\u0627_\\u0644\\u0627_\\u0644\\u0644\\u0627\\u062e\\u062a\\u0628\\u0627\\u0631\\u0627\\u062a_\\u0641\\u064a_\\u0631\\u0645\\u0636\\u0627\\u0646', u'promoted_content': None}, {u'url': u'http://twitter.com/search?q=%23%E3%81%A1%E3%82%93%E3%81%BD10%E9%80%A3%E3%82%AC%E3%83%81%E3%83%A3', u'query': u'%23%E3%81%A1%E3%82%93%E3%81%BD10%E9%80%A3%E3%82%AC%E3%83%81%E3%83%A3', u'tweet_volume': None, u'name': u'#\\u3061\\u3093\\u307d10\\u9023\\u30ac\\u30c1\\u30e3', u'promoted_content': None}, {u'url': u'http://twitter.com/search?q=%23%D9%85%D8%AA%D9%8A_%D8%B3%D9%86%D8%B5%D9%84%D9%8A_%D8%A8%D8%A7%D9%84%D9%82%D8%AF%D8%B3', u'query': u'%23%D9%85%D8%AA%D9%8A_%D8%B3%D9%86%D8%B5%D9%84%D9%8A_%D8%A8%D8%A7%D9%84%D9%82%D8%AF%D8%B3', u'tweet_volume': 12828, u'name': u'#\\u0645\\u062a\\u064a_\\u0633\\u0646\\u0635\\u0644\\u064a_\\u0628\\u0627\\u0644\\u0642\\u062f\\u0633', u'promoted_content': None}, {u'url': u'http://twitter.com/search?q=%23JesusEst%C3%A1Voltando', u'query': u'%23JesusEst%C3%A1Voltando', u'tweet_volume': 13648, u'name': u'#JesusEst\\xe1Voltando', u'promoted_content': None}, {u'url': u'http://twitter.com/search?q=%23%E3%81%82%E3%81%AA%E3%81%9F%E3%81%AE%E9%9A%8E%E7%B4%9A%E3%81%AF', u'query': u'%23%E3%81%82%E3%81%AA%E3%81%9F%E3%81%AE%E9%9A%8E%E7%B4%9A%E3%81%AF', u'tweet_volume': None, u'name': u'#\\u3042\\u306a\\u305f\\u306e\\u968e\\u7d1a\\u306f', u'promoted_content': None}, {u'url': u'http://twitter.com/search?q=%23HURvREB', u'query': u'%23HURvREB', u'tweet_volume': None, u'name': u'#HURvREB', u'promoted_content': None}, {u'url': u'http://twitter.com/search?q=%23MiLugarFavorito', u'query': u'%23MiLugarFavorito', u'tweet_volume': None, u'name': u'#MiLugarFavorito', u'promoted_content': None}, {u'url': u'http://twitter.com/search?q=%23AlVerteQuiero', u'query': u'%23AlVerteQuiero', u'tweet_volume': 13563, u'name': u'#AlVerteQuiero', u'promoted_content': None}, {u'url': u'http://twitter.com/search?q=%23UnusualLuckyCharms', u'query': u'%23UnusualLuckyCharms', u'tweet_volume': None, u'name': u'#UnusualLuckyCharms', u'promoted_content': None}, {u'url': u'http://twitter.com/search?q=%23ScareYourNeighborAwayBy', u'query': u'%23ScareYourNeighborAwayBy', u'tweet_volume': None, u'name': u'#ScareYourNeighborAwayBy', u'promoted_content': None}, {u'url': u'http://twitter.com/search?q=%23%D9%85%D8%B4%D8%A7%D8%B9%D8%B1%D9%86%D8%A7_%D8%AA%D8%A7%D9%84%D9%8A_%D8%A7%D9%84%D9%84%D9%8A%D9%84', u'query': u'%23%D9%85%D8%B4%D8%A7%D8%B9%D8%B1%D9%86%D8%A7_%D8%AA%D8%A7%D9%84%D9%8A_%D8%A7%D9%84%D9%84%D9%8A%D9%84', u'tweet_volume': 40058, u'name': u'#\\u0645\\u0634\\u0627\\u0639\\u0631\\u0646\\u0627_\\u062a\\u0627\\u0644\\u064a_\\u0627\\u0644\\u0644\\u064a\\u0644', u'promoted_content': None}, {u'url': u'http://twitter.com/search?q=%23%D8%A7%D9%85%D8%B7%D8%A7%D8%B1_%D8%A7%D9%84%D8%B4%D8%B1%D9%82%D9%8A%D9%87', u'query': u'%23%D8%A7%D9%85%D8%B7%D8%A7%D8%B1_%D8%A7%D9%84%D8%B4%D8%B1%D9%82%D9%8A%D9%87', u'tweet_volume': None, u'name': u'#\\u0627\\u0645\\u0637\\u0627\\u0631_\\u0627\\u0644\\u0634\\u0631\\u0642\\u064a\\u0647', u'promoted_content': None}, {u'url': u'http://twitter.com/search?q=%23%E3%81%82%E3%81%AA%E3%81%9F%E3%81%AF%E8%AA%B0%E3%81%A8%E4%BB%98%E3%81%8D%E5%90%88%E3%81%88%E3%82%8B%E3%81%8B', u'query': u'%23%E3%81%82%E3%81%AA%E3%81%9F%E3%81%AF%E8%AA%B0%E3%81%A8%E4%BB%98%E3%81%8D%E5%90%88%E3%81%88%E3%82%8B%E3%81%8B', u'tweet_volume': None, u'name': u'#\\u3042\\u306a\\u305f\\u306f\\u8ab0\\u3068\\u4ed8\\u304d\\u5408\\u3048\\u308b\\u304b', u'promoted_content': None}, {u'url': u'http://twitter.com/search?q=%23SterolineJuneWedding', u'query': u'%23SterolineJuneWedding', u'tweet_volume': 59720, u'name': u'#SterolineJuneWedding', u'promoted_content': None}, {u'url': u'http://twitter.com/search?q=%23SufroCuandoTu', u'query': u'%23SufroCuandoTu', u'tweet_volume': 13882, u'name': u'#SufroCuandoTu', u'promoted_content': None}, {u'url': u'http://twitter.com/search?q=%23HappyBDayDetremuraSDV', u'query': u'%23HappyBDayDetremuraSDV', u'tweet_volume': None, u'name': u'#HappyBDayDetremuraSDV', u'promoted_content': None}, {u'url': u'http://twitter.com/search?q=%23%E3%82%84%E3%82%8B%E6%B0%97%E3%81%AA%E3%81%84%E3%83%81%E3%83%A3%E3%83%AC%E3%83%B3%E3%82%B8', u'query': u'%23%E3%82%84%E3%82%8B%E6%B0%97%E3%81%AA%E3%81%84%E3%83%81%E3%83%A3%E3%83%AC%E3%83%B3%E3%82%B8', u'tweet_volume': None, u'name': u'#\\u3084\\u308b\\u6c17\\u306a\\u3044\\u30c1\\u30e3\\u30ec\\u30f3\\u30b8', u'promoted_content': None}, {u'url': u'http://twitter.com/search?q=%23PrimerPlano', u'query': u'%23PrimerPlano', u'tweet_volume': None, u'name': u'#PrimerPlano', u'promoted_content': None}, {u'url': u'http://twitter.com/search?q=%23SeTudoDesseCertoEu', u'query': u'%23SeTudoDesseCertoEu', u'tweet_volume': None, u'name': u'#SeTudoDesseCertoEu', u'promoted_content': None}, {u'url': u'http://twitter.com/search?q=%23LivePD', u'query': u'%23LivePD', u'tweet_volume': 10791, u'name': u'#LivePD', u'promoted_content': None}, {u'url': u'http://twitter.com/search?q=%23BajoLaMismaEstrellaPorEl13', u'query': u'%23BajoLaMismaEstrellaPorEl13', u'tweet_volume': None, u'name': u'#BajoLaMismaEstrellaPorEl13', u'promoted_content': None}, {u'url': u'http://twitter.com/search?q=%23GetWellSoonGongchan', u'query': u'%23GetWellSoonGongchan', u'tweet_volume': None, u'name': u'#GetWellSoonGongchan', u'promoted_content': None}, {u'url': u'http://twitter.com/search?q=%23IndiaPickleDay', u'query': u'%23IndiaPickleDay', u'tweet_volume': None, u'name': u'#IndiaPickleDay', u'promoted_content': None}, {u'url': u'http://twitter.com/search?q=%23aniaca', u'query': u'%23aniaca', u'tweet_volume': None, u'name': u'#aniaca', u'promoted_content': None}, {u'url': u'http://twitter.com/search?q=%23%D8%A7%D8%A8%D8%B5%D9%82_%D8%B9%D9%84%D9%8A_%D9%8A%D8%AD%D9%8A%D9%8A', u'query': u'%23%D8%A7%D8%A8%D8%B5%D9%82_%D8%B9%D9%84%D9%8A_%D9%8A%D8%AD%D9%8A%D9%8A', u'tweet_volume': None, u'name': u'#\\u0627\\u0628\\u0635\\u0642_\\u0639\\u0644\\u064a_\\u064a\\u062d\\u064a\\u064a', u'promoted_content': None}, {u'url': u'http://twitter.com/search?q=%23NochedeFallos', u'query': u'%23NochedeFallos', u'tweet_volume': None, u'name': u'#NochedeFallos', u'promoted_content': None}, {u'url': u'http://twitter.com/search?q=%23ScreamauSigueA', u'query': u'%23ScreamauSigueA', u'tweet_volume': None, u'name': u'#ScreamauSigueA', u'promoted_content': None}, {u'url': u'http://twitter.com/search?q=%23%D9%84%D9%8A%D8%B40%D8%B9%D9%86%D8%AF%D9%830%D9%83%D8%B1%D8%B9%D8%A7%D9%86', u'query': u'%23%D9%84%D9%8A%D8%B40%D8%B9%D9%86%D8%AF%D9%830%D9%83%D8%B1%D8%B9%D8%A7%D9%86', u'tweet_volume': None, u'name': u'#\\u0644\\u064a\\u06340\\u0639\\u0646\\u062f\\u06430\\u0643\\u0631\\u0639\\u0627\\u0646', u'promoted_content': None}, {u'url': u'http://twitter.com/search?q=%23IORA2017', u'query': u'%23IORA2017', u'tweet_volume': None, u'name': u'#IORA2017', u'promoted_content': None}, {u'url': u'http://twitter.com/search?q=%23SextaDePuroSDV', u'query': u'%23SextaDePuroSDV', u'tweet_volume': 12936, u'name': u'#SextaDePuroSDV', u'promoted_content': None}, {u'url': u'http://twitter.com/search?q=%23TheRapGame', u'query': u'%23TheRapGame', u'tweet_volume': None, u'name': u'#TheRapGame', u'promoted_content': None}, {u'url': u'http://twitter.com/search?q=%23SeQueEsCuaresma', u'query': u'%23SeQueEsCuaresma', u'tweet_volume': None, u'name': u'#SeQueEsCuaresma', u'promoted_content': None}, {u'url': u'http://twitter.com/search?q=%23Mashup', u'query': u'%23Mashup', u'tweet_volume': 125644, u'name': u'#Mashup', u'promoted_content': None}, {u'url': u'http://twitter.com/search?q=%23Bellator174', u'query': u'%23Bellator174', u'tweet_volume': None, u'name': u'#Bellator174', u'promoted_content': None}, {u'url': u'http://twitter.com/search?q=%23Be%C5%9Fikta%C5%9F%C4%B1nMa%C3%A7%C4%B1Var', u'query': u'%23Be%C5%9Fikta%C5%9F%C4%B1nMa%C3%A7%C4%B1Var', u'tweet_volume': None, u'name': u'#Be\\u015fikta\\u015f\\u0131nMa\\xe7\\u0131Var', u'promoted_content': None}], u'as_of': u'2017-03-04T06:43:17Z', u'locations': [{u'woeid': 1, u'name': u'Worldwide'}]}]\n",
      "\n",
      "[{u'created_at': u'2017-03-04T06:38:05Z', u'trends': [{u'url': u'http://twitter.com/search?q=%23PORvMIN', u'query': u'%23PORvMIN', u'tweet_volume': None, u'name': u'#PORvMIN', u'promoted_content': None}, {u'url': u'http://twitter.com/search?q=%23WeLoveYouAriana', u'query': u'%23WeLoveYouAriana', u'tweet_volume': 13763, u'name': u'#WeLoveYouAriana', u'promoted_content': None}, {u'url': u'http://twitter.com/search?q=%23ScareYourNeighborAwayBy', u'query': u'%23ScareYourNeighborAwayBy', u'tweet_volume': None, u'name': u'#ScareYourNeighborAwayBy', u'promoted_content': None}, {u'url': u'http://twitter.com/search?q=%23UnusualLuckyCharms', u'query': u'%23UnusualLuckyCharms', u'tweet_volume': None, u'name': u'#UnusualLuckyCharms', u'promoted_content': None}, {u'url': u'http://twitter.com/search?q=%23LivePD', u'query': u'%23LivePD', u'tweet_volume': 10791, u'name': u'#LivePD', u'promoted_content': None}, {u'url': u'http://twitter.com/search?q=%22Patty+Mills%22', u'query': u'%22Patty+Mills%22', u'tweet_volume': None, u'name': u'Patty Mills', u'promoted_content': None}, {u'url': u'http://twitter.com/search?q=%22Jrue+Holiday%22', u'query': u'%22Jrue+Holiday%22', u'tweet_volume': None, u'name': u'Jrue Holiday', u'promoted_content': None}, {u'url': u'http://twitter.com/search?q=%22Alvin+Gentry%22', u'query': u'%22Alvin+Gentry%22', u'tweet_volume': None, u'name': u'Alvin Gentry', u'promoted_content': None}, {u'url': u'http://twitter.com/search?q=Timbers', u'query': u'Timbers', u'tweet_volume': None, u'name': u'Timbers', u'promoted_content': None}, {u'url': u'http://twitter.com/search?q=%22Reuben+Foster%22', u'query': u'%22Reuben+Foster%22', u'tweet_volume': None, u'name': u'Reuben Foster', u'promoted_content': None}, {u'url': u'http://twitter.com/search?q=%22Jeffrey+Lord%22', u'query': u'%22Jeffrey+Lord%22', u'tweet_volume': None, u'name': u'Jeffrey Lord', u'promoted_content': None}, {u'url': u'http://twitter.com/search?q=%22Fanendo+Adi%22', u'query': u'%22Fanendo+Adi%22', u'tweet_volume': None, u'name': u'Fanendo Adi', u'promoted_content': None}, {u'url': u'http://twitter.com/search?q=%22Lexi+Bando%22', u'query': u'%22Lexi+Bando%22', u'tweet_volume': None, u'name': u'Lexi Bando', u'promoted_content': None}, {u'url': u'http://twitter.com/search?q=Pels', u'query': u'Pels', u'tweet_volume': None, u'name': u'Pels', u'promoted_content': None}, {u'url': u'http://twitter.com/search?q=%22Pau+Gasol%22', u'query': u'%22Pau+Gasol%22', u'tweet_volume': None, u'name': u'Pau Gasol', u'promoted_content': None}, {u'url': u'http://twitter.com/search?q=NOAA', u'query': u'NOAA', u'tweet_volume': 21458, u'name': u'NOAA', u'promoted_content': None}, {u'url': u'http://twitter.com/search?q=%22Sam+Querrey%22', u'query': u'%22Sam+Querrey%22', u'tweet_volume': None, u'name': u'Sam Querrey', u'promoted_content': None}, {u'url': u'http://twitter.com/search?q=%22Amir+Johnson%22', u'query': u'%22Amir+Johnson%22', u'tweet_volume': None, u'name': u'Amir Johnson', u'promoted_content': None}, {u'url': u'http://twitter.com/search?q=%22Bryce+Hamilton%22', u'query': u'%22Bryce+Hamilton%22', u'tweet_volume': None, u'name': u'Bryce Hamilton', u'promoted_content': None}, {u'url': u'http://twitter.com/search?q=%22Corey+Brewer%22', u'query': u'%22Corey+Brewer%22', u'tweet_volume': None, u'name': u'Corey Brewer', u'promoted_content': None}, {u'url': u'http://twitter.com/search?q=Nagbe', u'query': u'Nagbe', u'tweet_volume': None, u'name': u'Nagbe', u'promoted_content': None}, {u'url': u'http://twitter.com/search?q=%22Chantel+Osahor%22', u'query': u'%22Chantel+Osahor%22', u'tweet_volume': None, u'name': u'Chantel Osahor', u'promoted_content': None}, {u'url': u'http://twitter.com/search?q=%22Justin+Anderson%22', u'query': u'%22Justin+Anderson%22', u'tweet_volume': None, u'name': u'Justin Anderson', u'promoted_content': None}, {u'url': u'http://twitter.com/search?q=%22George+Hill%22', u'query': u'%22George+Hill%22', u'tweet_volume': None, u'name': u'George Hill', u'promoted_content': None}, {u'url': u'http://twitter.com/search?q=Nwaba', u'query': u'Nwaba', u'tweet_volume': None, u'name': u'Nwaba', u'promoted_content': None}, {u'url': u'http://twitter.com/search?q=Mamamoo', u'query': u'Mamamoo', u'tweet_volume': 53936, u'name': u'Mamamoo', u'promoted_content': None}, {u'url': u'http://twitter.com/search?q=%23TheRapGame', u'query': u'%23TheRapGame', u'tweet_volume': None, u'name': u'#TheRapGame', u'promoted_content': None}, {u'url': u'http://twitter.com/search?q=%23ThingsWeShouldInvestigate', u'query': u'%23ThingsWeShouldInvestigate', u'tweet_volume': 19078, u'name': u'#ThingsWeShouldInvestigate', u'promoted_content': None}, {u'url': u'http://twitter.com/search?q=%23Bellator174', u'query': u'%23Bellator174', u'tweet_volume': None, u'name': u'#Bellator174', u'promoted_content': None}, {u'url': u'http://twitter.com/search?q=%23IfOnlyIHadnt', u'query': u'%23IfOnlyIHadnt', u'tweet_volume': None, u'name': u'#IfOnlyIHadnt', u'promoted_content': None}, {u'url': u'http://twitter.com/search?q=%23EmeraldCity', u'query': u'%23EmeraldCity', u'tweet_volume': 10478, u'name': u'#EmeraldCity', u'promoted_content': None}, {u'url': u'http://twitter.com/search?q=%23BMovieManiacs', u'query': u'%23BMovieManiacs', u'tweet_volume': None, u'name': u'#BMovieManiacs', u'promoted_content': None}, {u'url': u'http://twitter.com/search?q=%23WhenAnimalsQuote', u'query': u'%23WhenAnimalsQuote', u'tweet_volume': None, u'name': u'#WhenAnimalsQuote', u'promoted_content': None}, {u'url': u'http://twitter.com/search?q=%23YoungFrankenstein', u'query': u'%23YoungFrankenstein', u'tweet_volume': None, u'name': u'#YoungFrankenstein', u'promoted_content': None}, {u'url': u'http://twitter.com/search?q=%23AnaheimDucksGoooaaalll', u'query': u'%23AnaheimDucksGoooaaalll', u'tweet_volume': None, u'name': u'#AnaheimDucksGoooaaalll', u'promoted_content': None}, {u'url': u'http://twitter.com/search?q=%23Reign', u'query': u'%23Reign', u'tweet_volume': None, u'name': u'#Reign', u'promoted_content': None}, {u'url': u'http://twitter.com/search?q=%23SterolineJuneWedding', u'query': u'%23SterolineJuneWedding', u'tweet_volume': 59720, u'name': u'#SterolineJuneWedding', u'promoted_content': None}, {u'url': u'http://twitter.com/search?q=%23McCoyROH', u'query': u'%23McCoyROH', u'tweet_volume': None, u'name': u'#McCoyROH', u'promoted_content': None}, {u'url': u'http://twitter.com/search?q=%23Dateline', u'query': u'%23Dateline', u'tweet_volume': None, u'name': u'#Dateline', u'promoted_content': None}, {u'url': u'http://twitter.com/search?q=%23AC360', u'query': u'%23AC360', u'tweet_volume': None, u'name': u'#AC360', u'promoted_content': None}, {u'url': u'http://twitter.com/search?q=%23BringIt', u'query': u'%23BringIt', u'tweet_volume': None, u'name': u'#BringIt', u'promoted_content': None}, {u'url': u'http://twitter.com/search?q=%23FridayNight', u'query': u'%23FridayNight', u'tweet_volume': None, u'name': u'#FridayNight', u'promoted_content': None}, {u'url': u'http://twitter.com/search?q=%23BKNatUTA', u'query': u'%23BKNatUTA', u'tweet_volume': None, u'name': u'#BKNatUTA', u'promoted_content': None}, {u'url': u'http://twitter.com/search?q=%23littlemixboston', u'query': u'%23littlemixboston', u'tweet_volume': None, u'name': u'#littlemixboston', u'promoted_content': None}, {u'url': u'http://twitter.com/search?q=%23Grimm', u'query': u'%23Grimm', u'tweet_volume': None, u'name': u'#Grimm', u'promoted_content': None}, {u'url': u'http://twitter.com/search?q=%23MaineCelebration', u'query': u'%23MaineCelebration', u'tweet_volume': 513462, u'name': u'#MaineCelebration', u'promoted_content': None}, {u'url': u'http://twitter.com/search?q=%23UncommonSenseLive', u'query': u'%23UncommonSenseLive', u'tweet_volume': None, u'name': u'#UncommonSenseLive', u'promoted_content': None}, {u'url': u'http://twitter.com/search?q=%23SleepyHollow', u'query': u'%23SleepyHollow', u'tweet_volume': None, u'name': u'#SleepyHollow', u'promoted_content': None}, {u'url': u'http://twitter.com/search?q=%23HawaiiSB', u'query': u'%23HawaiiSB', u'tweet_volume': None, u'name': u'#HawaiiSB', u'promoted_content': None}, {u'url': u'http://twitter.com/search?q=%23RAISETHECAT', u'query': u'%23RAISETHECAT', u'tweet_volume': None, u'name': u'#RAISETHECAT', u'promoted_content': None}], u'as_of': u'2017-03-04T06:43:18Z', u'locations': [{u'woeid': 23424977, u'name': u'United States'}]}]\n"
     ]
    }
   ],
   "source": [
    "# The Yahoo! Where On Earth ID for the entire world is 1.\n",
    "# See https://dev.twitter.com/docs/api/1.1/get/trends/place and\n",
    "# http://developer.yahoo.com/geo/geoplanet/\n",
    "\n",
    "WORLD_WOE_ID = 1\n",
    "US_WOE_ID = 23424977\n",
    "\n",
    "# Prefix ID with the underscore for query string parameterization.\n",
    "# Without the underscore, the twitter package appends the ID value\n",
    "# to the URL itself as a special case keyword argument.\n",
    "\n",
    "world_trends = twitter_api.trends.place(_id=WORLD_WOE_ID)\n",
    "us_trends = twitter_api.trends.place(_id=US_WOE_ID)\n",
    "\n",
    "print world_trends\n",
    "print\n",
    "print us_trends"
   ]
  },
  {
   "cell_type": "markdown",
   "metadata": {
    "slideshow": {
     "slide_type": "slide"
    }
   },
   "source": [
    "### Json格式打印"
   ]
  },
  {
   "cell_type": "code",
   "execution_count": 9,
   "metadata": {
    "collapsed": false,
    "slideshow": {
     "slide_type": "fragment"
    }
   },
   "outputs": [
    {
     "name": "stdout",
     "output_type": "stream",
     "text": [
      "[\n",
      " {\n",
      "  \"created_at\": \"2017-03-04T06:38:05Z\", \n",
      "  \"trends\": [\n",
      "   {\n",
      "    \"url\": \"http://twitter.com/search?q=%23MaineCelebration\", \n",
      "    \"query\": \"%23MaineCelebration\", \n",
      "    \"tweet_volume\": 513462, \n",
      "    \"name\": \"#MaineCelebration\", \n",
      "    \"promoted_content\": null\n",
      "   }, \n",
      "   {\n",
      "    \"url\": \"http://twitter.com/search?q=%23WeLoveYouAriana\", \n",
      "    \"query\": \"%23WeLoveYouAriana\", \n",
      "    \"tweet_volume\": 13763, \n",
      "    \"name\": \"#WeLoveYouAriana\", \n",
      "    \"promoted_content\": null\n",
      "   }, \n",
      "   {\n",
      "    \"url\": \"http://twitter.com/search?q=%23%D9%87%D8%A7%D9%84%D8%AD%D8%B2%D9%87_%D9%88%D8%AF%D9%83_%D9%81%D9%8A\", \n",
      "    \"query\": \"%23%D9%87%D8%A7%D9%84%D8%AD%D8%B2%D9%87_%D9%88%D8%AF%D9%83_%D9%81%D9%8A\", \n",
      "    \"tweet_volume\": null, \n",
      "    \"name\": \"#\\u0647\\u0627\\u0644\\u062d\\u0632\\u0647_\\u0648\\u062f\\u0643_\\u0641\\u064a\", \n",
      "    \"promoted_content\": null\n",
      "   }, \n",
      "   {\n",
      "    \"url\": \"http://twitter.com/search?q=%23PORvMIN\", \n",
      "    \"query\": \"%23PORvMIN\", \n",
      "    \"tweet_volume\": null, \n",
      "    \"name\": \"#PORvMIN\", \n",
      "    \"promoted_content\": null\n",
      "   }, \n",
      "   {\n",
      "    \"url\": \"http://twitter.com/search?q=%23%E0%A4%95%E0%A4%BE%E0%A4%B6%E0%A5%80_%E0%A4%95%E0%A4%BE_%E0%A4%97%E0%A5%8C%E0%A4%B0%E0%A4%B5Modi\", \n",
      "    \"query\": \"%23%E0%A4%95%E0%A4%BE%E0%A4%B6%E0%A5%80_%E0%A4%95%E0%A4%BE_%E0%A4%97%E0%A5%8C%E0%A4%B0%E0%A4%B5Modi\", \n",
      "    \"tweet_volume\": null, \n",
      "    \"name\": \"#\\u0915\\u093e\\u0936\\u0940_\\u0915\\u093e_\\u0917\\u094c\\u0930\\u0935Modi\", \n",
      "    \"promoted_content\": null\n",
      "   }, \n",
      "   {\n",
      "    \"url\": \"http://twitter.com/search?q=%22Simone+e+Simaria%22\", \n",
      "    \"query\": \"%22Simone+e+Simaria%22\", \n",
      "    \"tweet_volume\": 23165, \n",
      "    \"name\": \"Simone e Simaria\", \n",
      "    \"promoted_content\": null\n",
      "   }, \n",
      "   {\n",
      "    \"url\": \"http://twitter.com/search?q=Cazuza\", \n",
      "    \"query\": \"Cazuza\", \n",
      "    \"tweet_volume\": null, \n",
      "    \"name\": \"Cazuza\", \n",
      "    \"promoted_content\": null\n",
      "   }, \n",
      "   {\n",
      "    \"url\": \"http://twitter.com/search?q=%22Michael+Orozco%22\", \n",
      "    \"query\": \"%22Michael+Orozco%22\", \n",
      "    \"tweet_volume\": null, \n",
      "    \"name\": \"Michael Orozco\", \n",
      "    \"promoted_content\": null\n",
      "   }, \n",
      "   {\n",
      "    \"url\": \"http://twitter.com/search?q=%22Patty+Mills%22\", \n",
      "    \"query\": \"%22Patty+Mills%22\", \n",
      "    \"tweet_volume\": null, \n",
      "    \"name\": \"Patty Mills\", \n",
      "    \"promoted_content\": null\n",
      "   }, \n",
      "   {\n",
      "    \"url\": \"http://twitter.com/search?q=%E3%82%BB%E3%83%AC%E3%83%83%E3%82%BD\", \n",
      "    \"query\": \"%E3%82%BB%E3%83%AC%E3%83%83%E3%82%BD\", \n",
      "    \"tweet_volume\": null, \n",
      "    \"name\": \"\\u30bb\\u30ec\\u30c3\\u30bd\", \n",
      "    \"promoted_content\": null\n",
      "   }, \n",
      "   {\n",
      "    \"url\": \"http://twitter.com/search?q=%22DIA+DE+GR%C3%8AMIO%22\", \n",
      "    \"query\": \"%22DIA+DE+GR%C3%8AMIO%22\", \n",
      "    \"tweet_volume\": null, \n",
      "    \"name\": \"DIA DE GR\\u00caMIO\", \n",
      "    \"promoted_content\": null\n",
      "   }, \n",
      "   {\n",
      "    \"url\": \"http://twitter.com/search?q=Nazarenos\", \n",
      "    \"query\": \"Nazarenos\", \n",
      "    \"tweet_volume\": null, \n",
      "    \"name\": \"Nazarenos\", \n",
      "    \"promoted_content\": null\n",
      "   }, \n",
      "   {\n",
      "    \"url\": \"http://twitter.com/search?q=%23TNTULtimateResbak\", \n",
      "    \"query\": \"%23TNTULtimateResbak\", \n",
      "    \"tweet_volume\": 14294, \n",
      "    \"name\": \"#TNTULtimateResbak\", \n",
      "    \"promoted_content\": null\n",
      "   }, \n",
      "   {\n",
      "    \"url\": \"http://twitter.com/search?q=%23SabadoDeGanarSeguidores\", \n",
      "    \"query\": \"%23SabadoDeGanarSeguidores\", \n",
      "    \"tweet_volume\": null, \n",
      "    \"name\": \"#SabadoDeGanarSeguidores\", \n",
      "    \"promoted_content\": null\n",
      "   }, \n",
      "   {\n",
      "    \"url\": \"http://twitter.com/search?q=%23NRLDragonsPanthers\", \n",
      "    \"query\": \"%23NRLDragonsPanthers\", \n",
      "    \"tweet_volume\": null, \n",
      "    \"name\": \"#NRLDragonsPanthers\", \n",
      "    \"promoted_content\": null\n",
      "   }, \n",
      "   {\n",
      "    \"url\": \"http://twitter.com/search?q=%23%D9%84%D8%A7_%D9%84%D8%A7_%D9%84%D9%84%D8%A7%D8%AE%D8%AA%D8%A8%D8%A7%D8%B1%D8%A7%D8%AA_%D9%81%D9%8A_%D8%B1%D9%85%D8%B6%D8%A7%D9%86\", \n",
      "    \"query\": \"%23%D9%84%D8%A7_%D9%84%D8%A7_%D9%84%D9%84%D8%A7%D8%AE%D8%AA%D8%A8%D8%A7%D8%B1%D8%A7%D8%AA_%D9%81%D9%8A_%D8%B1%D9%85%D8%B6%D8%A7%D9%86\", \n",
      "    \"tweet_volume\": 13336, \n",
      "    \"name\": \"#\\u0644\\u0627_\\u0644\\u0627_\\u0644\\u0644\\u0627\\u062e\\u062a\\u0628\\u0627\\u0631\\u0627\\u062a_\\u0641\\u064a_\\u0631\\u0645\\u0636\\u0627\\u0646\", \n",
      "    \"promoted_content\": null\n",
      "   }, \n",
      "   {\n",
      "    \"url\": \"http://twitter.com/search?q=%23%E3%81%A1%E3%82%93%E3%81%BD10%E9%80%A3%E3%82%AC%E3%83%81%E3%83%A3\", \n",
      "    \"query\": \"%23%E3%81%A1%E3%82%93%E3%81%BD10%E9%80%A3%E3%82%AC%E3%83%81%E3%83%A3\", \n",
      "    \"tweet_volume\": null, \n",
      "    \"name\": \"#\\u3061\\u3093\\u307d10\\u9023\\u30ac\\u30c1\\u30e3\", \n",
      "    \"promoted_content\": null\n",
      "   }, \n",
      "   {\n",
      "    \"url\": \"http://twitter.com/search?q=%23%D9%85%D8%AA%D9%8A_%D8%B3%D9%86%D8%B5%D9%84%D9%8A_%D8%A8%D8%A7%D9%84%D9%82%D8%AF%D8%B3\", \n",
      "    \"query\": \"%23%D9%85%D8%AA%D9%8A_%D8%B3%D9%86%D8%B5%D9%84%D9%8A_%D8%A8%D8%A7%D9%84%D9%82%D8%AF%D8%B3\", \n",
      "    \"tweet_volume\": 12828, \n",
      "    \"name\": \"#\\u0645\\u062a\\u064a_\\u0633\\u0646\\u0635\\u0644\\u064a_\\u0628\\u0627\\u0644\\u0642\\u062f\\u0633\", \n",
      "    \"promoted_content\": null\n",
      "   }, \n",
      "   {\n",
      "    \"url\": \"http://twitter.com/search?q=%23JesusEst%C3%A1Voltando\", \n",
      "    \"query\": \"%23JesusEst%C3%A1Voltando\", \n",
      "    \"tweet_volume\": 13648, \n",
      "    \"name\": \"#JesusEst\\u00e1Voltando\", \n",
      "    \"promoted_content\": null\n",
      "   }, \n",
      "   {\n",
      "    \"url\": \"http://twitter.com/search?q=%23%E3%81%82%E3%81%AA%E3%81%9F%E3%81%AE%E9%9A%8E%E7%B4%9A%E3%81%AF\", \n",
      "    \"query\": \"%23%E3%81%82%E3%81%AA%E3%81%9F%E3%81%AE%E9%9A%8E%E7%B4%9A%E3%81%AF\", \n",
      "    \"tweet_volume\": null, \n",
      "    \"name\": \"#\\u3042\\u306a\\u305f\\u306e\\u968e\\u7d1a\\u306f\", \n",
      "    \"promoted_content\": null\n",
      "   }, \n",
      "   {\n",
      "    \"url\": \"http://twitter.com/search?q=%23HURvREB\", \n",
      "    \"query\": \"%23HURvREB\", \n",
      "    \"tweet_volume\": null, \n",
      "    \"name\": \"#HURvREB\", \n",
      "    \"promoted_content\": null\n",
      "   }, \n",
      "   {\n",
      "    \"url\": \"http://twitter.com/search?q=%23MiLugarFavorito\", \n",
      "    \"query\": \"%23MiLugarFavorito\", \n",
      "    \"tweet_volume\": null, \n",
      "    \"name\": \"#MiLugarFavorito\", \n",
      "    \"promoted_content\": null\n",
      "   }, \n",
      "   {\n",
      "    \"url\": \"http://twitter.com/search?q=%23AlVerteQuiero\", \n",
      "    \"query\": \"%23AlVerteQuiero\", \n",
      "    \"tweet_volume\": 13563, \n",
      "    \"name\": \"#AlVerteQuiero\", \n",
      "    \"promoted_content\": null\n",
      "   }, \n",
      "   {\n",
      "    \"url\": \"http://twitter.com/search?q=%23UnusualLuckyCharms\", \n",
      "    \"query\": \"%23UnusualLuckyCharms\", \n",
      "    \"tweet_volume\": null, \n",
      "    \"name\": \"#UnusualLuckyCharms\", \n",
      "    \"promoted_content\": null\n",
      "   }, \n",
      "   {\n",
      "    \"url\": \"http://twitter.com/search?q=%23ScareYourNeighborAwayBy\", \n",
      "    \"query\": \"%23ScareYourNeighborAwayBy\", \n",
      "    \"tweet_volume\": null, \n",
      "    \"name\": \"#ScareYourNeighborAwayBy\", \n",
      "    \"promoted_content\": null\n",
      "   }, \n",
      "   {\n",
      "    \"url\": \"http://twitter.com/search?q=%23%D9%85%D8%B4%D8%A7%D8%B9%D8%B1%D9%86%D8%A7_%D8%AA%D8%A7%D9%84%D9%8A_%D8%A7%D9%84%D9%84%D9%8A%D9%84\", \n",
      "    \"query\": \"%23%D9%85%D8%B4%D8%A7%D8%B9%D8%B1%D9%86%D8%A7_%D8%AA%D8%A7%D9%84%D9%8A_%D8%A7%D9%84%D9%84%D9%8A%D9%84\", \n",
      "    \"tweet_volume\": 40058, \n",
      "    \"name\": \"#\\u0645\\u0634\\u0627\\u0639\\u0631\\u0646\\u0627_\\u062a\\u0627\\u0644\\u064a_\\u0627\\u0644\\u0644\\u064a\\u0644\", \n",
      "    \"promoted_content\": null\n",
      "   }, \n",
      "   {\n",
      "    \"url\": \"http://twitter.com/search?q=%23%D8%A7%D9%85%D8%B7%D8%A7%D8%B1_%D8%A7%D9%84%D8%B4%D8%B1%D9%82%D9%8A%D9%87\", \n",
      "    \"query\": \"%23%D8%A7%D9%85%D8%B7%D8%A7%D8%B1_%D8%A7%D9%84%D8%B4%D8%B1%D9%82%D9%8A%D9%87\", \n",
      "    \"tweet_volume\": null, \n",
      "    \"name\": \"#\\u0627\\u0645\\u0637\\u0627\\u0631_\\u0627\\u0644\\u0634\\u0631\\u0642\\u064a\\u0647\", \n",
      "    \"promoted_content\": null\n",
      "   }, \n",
      "   {\n",
      "    \"url\": \"http://twitter.com/search?q=%23%E3%81%82%E3%81%AA%E3%81%9F%E3%81%AF%E8%AA%B0%E3%81%A8%E4%BB%98%E3%81%8D%E5%90%88%E3%81%88%E3%82%8B%E3%81%8B\", \n",
      "    \"query\": \"%23%E3%81%82%E3%81%AA%E3%81%9F%E3%81%AF%E8%AA%B0%E3%81%A8%E4%BB%98%E3%81%8D%E5%90%88%E3%81%88%E3%82%8B%E3%81%8B\", \n",
      "    \"tweet_volume\": null, \n",
      "    \"name\": \"#\\u3042\\u306a\\u305f\\u306f\\u8ab0\\u3068\\u4ed8\\u304d\\u5408\\u3048\\u308b\\u304b\", \n",
      "    \"promoted_content\": null\n",
      "   }, \n",
      "   {\n",
      "    \"url\": \"http://twitter.com/search?q=%23SterolineJuneWedding\", \n",
      "    \"query\": \"%23SterolineJuneWedding\", \n",
      "    \"tweet_volume\": 59720, \n",
      "    \"name\": \"#SterolineJuneWedding\", \n",
      "    \"promoted_content\": null\n",
      "   }, \n",
      "   {\n",
      "    \"url\": \"http://twitter.com/search?q=%23SufroCuandoTu\", \n",
      "    \"query\": \"%23SufroCuandoTu\", \n",
      "    \"tweet_volume\": 13882, \n",
      "    \"name\": \"#SufroCuandoTu\", \n",
      "    \"promoted_content\": null\n",
      "   }, \n",
      "   {\n",
      "    \"url\": \"http://twitter.com/search?q=%23HappyBDayDetremuraSDV\", \n",
      "    \"query\": \"%23HappyBDayDetremuraSDV\", \n",
      "    \"tweet_volume\": null, \n",
      "    \"name\": \"#HappyBDayDetremuraSDV\", \n",
      "    \"promoted_content\": null\n",
      "   }, \n",
      "   {\n",
      "    \"url\": \"http://twitter.com/search?q=%23%E3%82%84%E3%82%8B%E6%B0%97%E3%81%AA%E3%81%84%E3%83%81%E3%83%A3%E3%83%AC%E3%83%B3%E3%82%B8\", \n",
      "    \"query\": \"%23%E3%82%84%E3%82%8B%E6%B0%97%E3%81%AA%E3%81%84%E3%83%81%E3%83%A3%E3%83%AC%E3%83%B3%E3%82%B8\", \n",
      "    \"tweet_volume\": null, \n",
      "    \"name\": \"#\\u3084\\u308b\\u6c17\\u306a\\u3044\\u30c1\\u30e3\\u30ec\\u30f3\\u30b8\", \n",
      "    \"promoted_content\": null\n",
      "   }, \n",
      "   {\n",
      "    \"url\": \"http://twitter.com/search?q=%23PrimerPlano\", \n",
      "    \"query\": \"%23PrimerPlano\", \n",
      "    \"tweet_volume\": null, \n",
      "    \"name\": \"#PrimerPlano\", \n",
      "    \"promoted_content\": null\n",
      "   }, \n",
      "   {\n",
      "    \"url\": \"http://twitter.com/search?q=%23SeTudoDesseCertoEu\", \n",
      "    \"query\": \"%23SeTudoDesseCertoEu\", \n",
      "    \"tweet_volume\": null, \n",
      "    \"name\": \"#SeTudoDesseCertoEu\", \n",
      "    \"promoted_content\": null\n",
      "   }, \n",
      "   {\n",
      "    \"url\": \"http://twitter.com/search?q=%23LivePD\", \n",
      "    \"query\": \"%23LivePD\", \n",
      "    \"tweet_volume\": 10791, \n",
      "    \"name\": \"#LivePD\", \n",
      "    \"promoted_content\": null\n",
      "   }, \n",
      "   {\n",
      "    \"url\": \"http://twitter.com/search?q=%23BajoLaMismaEstrellaPorEl13\", \n",
      "    \"query\": \"%23BajoLaMismaEstrellaPorEl13\", \n",
      "    \"tweet_volume\": null, \n",
      "    \"name\": \"#BajoLaMismaEstrellaPorEl13\", \n",
      "    \"promoted_content\": null\n",
      "   }, \n",
      "   {\n",
      "    \"url\": \"http://twitter.com/search?q=%23GetWellSoonGongchan\", \n",
      "    \"query\": \"%23GetWellSoonGongchan\", \n",
      "    \"tweet_volume\": null, \n",
      "    \"name\": \"#GetWellSoonGongchan\", \n",
      "    \"promoted_content\": null\n",
      "   }, \n",
      "   {\n",
      "    \"url\": \"http://twitter.com/search?q=%23IndiaPickleDay\", \n",
      "    \"query\": \"%23IndiaPickleDay\", \n",
      "    \"tweet_volume\": null, \n",
      "    \"name\": \"#IndiaPickleDay\", \n",
      "    \"promoted_content\": null\n",
      "   }, \n",
      "   {\n",
      "    \"url\": \"http://twitter.com/search?q=%23aniaca\", \n",
      "    \"query\": \"%23aniaca\", \n",
      "    \"tweet_volume\": null, \n",
      "    \"name\": \"#aniaca\", \n",
      "    \"promoted_content\": null\n",
      "   }, \n",
      "   {\n",
      "    \"url\": \"http://twitter.com/search?q=%23%D8%A7%D8%A8%D8%B5%D9%82_%D8%B9%D9%84%D9%8A_%D9%8A%D8%AD%D9%8A%D9%8A\", \n",
      "    \"query\": \"%23%D8%A7%D8%A8%D8%B5%D9%82_%D8%B9%D9%84%D9%8A_%D9%8A%D8%AD%D9%8A%D9%8A\", \n",
      "    \"tweet_volume\": null, \n",
      "    \"name\": \"#\\u0627\\u0628\\u0635\\u0642_\\u0639\\u0644\\u064a_\\u064a\\u062d\\u064a\\u064a\", \n",
      "    \"promoted_content\": null\n",
      "   }, \n",
      "   {\n",
      "    \"url\": \"http://twitter.com/search?q=%23NochedeFallos\", \n",
      "    \"query\": \"%23NochedeFallos\", \n",
      "    \"tweet_volume\": null, \n",
      "    \"name\": \"#NochedeFallos\", \n",
      "    \"promoted_content\": null\n",
      "   }, \n",
      "   {\n",
      "    \"url\": \"http://twitter.com/search?q=%23ScreamauSigueA\", \n",
      "    \"query\": \"%23ScreamauSigueA\", \n",
      "    \"tweet_volume\": null, \n",
      "    \"name\": \"#ScreamauSigueA\", \n",
      "    \"promoted_content\": null\n",
      "   }, \n",
      "   {\n",
      "    \"url\": \"http://twitter.com/search?q=%23%D9%84%D9%8A%D8%B40%D8%B9%D9%86%D8%AF%D9%830%D9%83%D8%B1%D8%B9%D8%A7%D9%86\", \n",
      "    \"query\": \"%23%D9%84%D9%8A%D8%B40%D8%B9%D9%86%D8%AF%D9%830%D9%83%D8%B1%D8%B9%D8%A7%D9%86\", \n",
      "    \"tweet_volume\": null, \n",
      "    \"name\": \"#\\u0644\\u064a\\u06340\\u0639\\u0646\\u062f\\u06430\\u0643\\u0631\\u0639\\u0627\\u0646\", \n",
      "    \"promoted_content\": null\n",
      "   }, \n",
      "   {\n",
      "    \"url\": \"http://twitter.com/search?q=%23IORA2017\", \n",
      "    \"query\": \"%23IORA2017\", \n",
      "    \"tweet_volume\": null, \n",
      "    \"name\": \"#IORA2017\", \n",
      "    \"promoted_content\": null\n",
      "   }, \n",
      "   {\n",
      "    \"url\": \"http://twitter.com/search?q=%23SextaDePuroSDV\", \n",
      "    \"query\": \"%23SextaDePuroSDV\", \n",
      "    \"tweet_volume\": 12936, \n",
      "    \"name\": \"#SextaDePuroSDV\", \n",
      "    \"promoted_content\": null\n",
      "   }, \n",
      "   {\n",
      "    \"url\": \"http://twitter.com/search?q=%23TheRapGame\", \n",
      "    \"query\": \"%23TheRapGame\", \n",
      "    \"tweet_volume\": null, \n",
      "    \"name\": \"#TheRapGame\", \n",
      "    \"promoted_content\": null\n",
      "   }, \n",
      "   {\n",
      "    \"url\": \"http://twitter.com/search?q=%23SeQueEsCuaresma\", \n",
      "    \"query\": \"%23SeQueEsCuaresma\", \n",
      "    \"tweet_volume\": null, \n",
      "    \"name\": \"#SeQueEsCuaresma\", \n",
      "    \"promoted_content\": null\n",
      "   }, \n",
      "   {\n",
      "    \"url\": \"http://twitter.com/search?q=%23Mashup\", \n",
      "    \"query\": \"%23Mashup\", \n",
      "    \"tweet_volume\": 125644, \n",
      "    \"name\": \"#Mashup\", \n",
      "    \"promoted_content\": null\n",
      "   }, \n",
      "   {\n",
      "    \"url\": \"http://twitter.com/search?q=%23Bellator174\", \n",
      "    \"query\": \"%23Bellator174\", \n",
      "    \"tweet_volume\": null, \n",
      "    \"name\": \"#Bellator174\", \n",
      "    \"promoted_content\": null\n",
      "   }, \n",
      "   {\n",
      "    \"url\": \"http://twitter.com/search?q=%23Be%C5%9Fikta%C5%9F%C4%B1nMa%C3%A7%C4%B1Var\", \n",
      "    \"query\": \"%23Be%C5%9Fikta%C5%9F%C4%B1nMa%C3%A7%C4%B1Var\", \n",
      "    \"tweet_volume\": null, \n",
      "    \"name\": \"#Be\\u015fikta\\u015f\\u0131nMa\\u00e7\\u0131Var\", \n",
      "    \"promoted_content\": null\n",
      "   }\n",
      "  ], \n",
      "  \"as_of\": \"2017-03-04T06:43:17Z\", \n",
      "  \"locations\": [\n",
      "   {\n",
      "    \"woeid\": 1, \n",
      "    \"name\": \"Worldwide\"\n",
      "   }\n",
      "  ]\n",
      " }\n",
      "]\n",
      "\n",
      "[\n",
      " {\n",
      "  \"created_at\": \"2017-03-04T06:38:05Z\", \n",
      "  \"trends\": [\n",
      "   {\n",
      "    \"url\": \"http://twitter.com/search?q=%23PORvMIN\", \n",
      "    \"query\": \"%23PORvMIN\", \n",
      "    \"tweet_volume\": null, \n",
      "    \"name\": \"#PORvMIN\", \n",
      "    \"promoted_content\": null\n",
      "   }, \n",
      "   {\n",
      "    \"url\": \"http://twitter.com/search?q=%23WeLoveYouAriana\", \n",
      "    \"query\": \"%23WeLoveYouAriana\", \n",
      "    \"tweet_volume\": 13763, \n",
      "    \"name\": \"#WeLoveYouAriana\", \n",
      "    \"promoted_content\": null\n",
      "   }, \n",
      "   {\n",
      "    \"url\": \"http://twitter.com/search?q=%23ScareYourNeighborAwayBy\", \n",
      "    \"query\": \"%23ScareYourNeighborAwayBy\", \n",
      "    \"tweet_volume\": null, \n",
      "    \"name\": \"#ScareYourNeighborAwayBy\", \n",
      "    \"promoted_content\": null\n",
      "   }, \n",
      "   {\n",
      "    \"url\": \"http://twitter.com/search?q=%23UnusualLuckyCharms\", \n",
      "    \"query\": \"%23UnusualLuckyCharms\", \n",
      "    \"tweet_volume\": null, \n",
      "    \"name\": \"#UnusualLuckyCharms\", \n",
      "    \"promoted_content\": null\n",
      "   }, \n",
      "   {\n",
      "    \"url\": \"http://twitter.com/search?q=%23LivePD\", \n",
      "    \"query\": \"%23LivePD\", \n",
      "    \"tweet_volume\": 10791, \n",
      "    \"name\": \"#LivePD\", \n",
      "    \"promoted_content\": null\n",
      "   }, \n",
      "   {\n",
      "    \"url\": \"http://twitter.com/search?q=%22Patty+Mills%22\", \n",
      "    \"query\": \"%22Patty+Mills%22\", \n",
      "    \"tweet_volume\": null, \n",
      "    \"name\": \"Patty Mills\", \n",
      "    \"promoted_content\": null\n",
      "   }, \n",
      "   {\n",
      "    \"url\": \"http://twitter.com/search?q=%22Jrue+Holiday%22\", \n",
      "    \"query\": \"%22Jrue+Holiday%22\", \n",
      "    \"tweet_volume\": null, \n",
      "    \"name\": \"Jrue Holiday\", \n",
      "    \"promoted_content\": null\n",
      "   }, \n",
      "   {\n",
      "    \"url\": \"http://twitter.com/search?q=%22Alvin+Gentry%22\", \n",
      "    \"query\": \"%22Alvin+Gentry%22\", \n",
      "    \"tweet_volume\": null, \n",
      "    \"name\": \"Alvin Gentry\", \n",
      "    \"promoted_content\": null\n",
      "   }, \n",
      "   {\n",
      "    \"url\": \"http://twitter.com/search?q=Timbers\", \n",
      "    \"query\": \"Timbers\", \n",
      "    \"tweet_volume\": null, \n",
      "    \"name\": \"Timbers\", \n",
      "    \"promoted_content\": null\n",
      "   }, \n",
      "   {\n",
      "    \"url\": \"http://twitter.com/search?q=%22Reuben+Foster%22\", \n",
      "    \"query\": \"%22Reuben+Foster%22\", \n",
      "    \"tweet_volume\": null, \n",
      "    \"name\": \"Reuben Foster\", \n",
      "    \"promoted_content\": null\n",
      "   }, \n",
      "   {\n",
      "    \"url\": \"http://twitter.com/search?q=%22Jeffrey+Lord%22\", \n",
      "    \"query\": \"%22Jeffrey+Lord%22\", \n",
      "    \"tweet_volume\": null, \n",
      "    \"name\": \"Jeffrey Lord\", \n",
      "    \"promoted_content\": null\n",
      "   }, \n",
      "   {\n",
      "    \"url\": \"http://twitter.com/search?q=%22Fanendo+Adi%22\", \n",
      "    \"query\": \"%22Fanendo+Adi%22\", \n",
      "    \"tweet_volume\": null, \n",
      "    \"name\": \"Fanendo Adi\", \n",
      "    \"promoted_content\": null\n",
      "   }, \n",
      "   {\n",
      "    \"url\": \"http://twitter.com/search?q=%22Lexi+Bando%22\", \n",
      "    \"query\": \"%22Lexi+Bando%22\", \n",
      "    \"tweet_volume\": null, \n",
      "    \"name\": \"Lexi Bando\", \n",
      "    \"promoted_content\": null\n",
      "   }, \n",
      "   {\n",
      "    \"url\": \"http://twitter.com/search?q=Pels\", \n",
      "    \"query\": \"Pels\", \n",
      "    \"tweet_volume\": null, \n",
      "    \"name\": \"Pels\", \n",
      "    \"promoted_content\": null\n",
      "   }, \n",
      "   {\n",
      "    \"url\": \"http://twitter.com/search?q=%22Pau+Gasol%22\", \n",
      "    \"query\": \"%22Pau+Gasol%22\", \n",
      "    \"tweet_volume\": null, \n",
      "    \"name\": \"Pau Gasol\", \n",
      "    \"promoted_content\": null\n",
      "   }, \n",
      "   {\n",
      "    \"url\": \"http://twitter.com/search?q=NOAA\", \n",
      "    \"query\": \"NOAA\", \n",
      "    \"tweet_volume\": 21458, \n",
      "    \"name\": \"NOAA\", \n",
      "    \"promoted_content\": null\n",
      "   }, \n",
      "   {\n",
      "    \"url\": \"http://twitter.com/search?q=%22Sam+Querrey%22\", \n",
      "    \"query\": \"%22Sam+Querrey%22\", \n",
      "    \"tweet_volume\": null, \n",
      "    \"name\": \"Sam Querrey\", \n",
      "    \"promoted_content\": null\n",
      "   }, \n",
      "   {\n",
      "    \"url\": \"http://twitter.com/search?q=%22Amir+Johnson%22\", \n",
      "    \"query\": \"%22Amir+Johnson%22\", \n",
      "    \"tweet_volume\": null, \n",
      "    \"name\": \"Amir Johnson\", \n",
      "    \"promoted_content\": null\n",
      "   }, \n",
      "   {\n",
      "    \"url\": \"http://twitter.com/search?q=%22Bryce+Hamilton%22\", \n",
      "    \"query\": \"%22Bryce+Hamilton%22\", \n",
      "    \"tweet_volume\": null, \n",
      "    \"name\": \"Bryce Hamilton\", \n",
      "    \"promoted_content\": null\n",
      "   }, \n",
      "   {\n",
      "    \"url\": \"http://twitter.com/search?q=%22Corey+Brewer%22\", \n",
      "    \"query\": \"%22Corey+Brewer%22\", \n",
      "    \"tweet_volume\": null, \n",
      "    \"name\": \"Corey Brewer\", \n",
      "    \"promoted_content\": null\n",
      "   }, \n",
      "   {\n",
      "    \"url\": \"http://twitter.com/search?q=Nagbe\", \n",
      "    \"query\": \"Nagbe\", \n",
      "    \"tweet_volume\": null, \n",
      "    \"name\": \"Nagbe\", \n",
      "    \"promoted_content\": null\n",
      "   }, \n",
      "   {\n",
      "    \"url\": \"http://twitter.com/search?q=%22Chantel+Osahor%22\", \n",
      "    \"query\": \"%22Chantel+Osahor%22\", \n",
      "    \"tweet_volume\": null, \n",
      "    \"name\": \"Chantel Osahor\", \n",
      "    \"promoted_content\": null\n",
      "   }, \n",
      "   {\n",
      "    \"url\": \"http://twitter.com/search?q=%22Justin+Anderson%22\", \n",
      "    \"query\": \"%22Justin+Anderson%22\", \n",
      "    \"tweet_volume\": null, \n",
      "    \"name\": \"Justin Anderson\", \n",
      "    \"promoted_content\": null\n",
      "   }, \n",
      "   {\n",
      "    \"url\": \"http://twitter.com/search?q=%22George+Hill%22\", \n",
      "    \"query\": \"%22George+Hill%22\", \n",
      "    \"tweet_volume\": null, \n",
      "    \"name\": \"George Hill\", \n",
      "    \"promoted_content\": null\n",
      "   }, \n",
      "   {\n",
      "    \"url\": \"http://twitter.com/search?q=Nwaba\", \n",
      "    \"query\": \"Nwaba\", \n",
      "    \"tweet_volume\": null, \n",
      "    \"name\": \"Nwaba\", \n",
      "    \"promoted_content\": null\n",
      "   }, \n",
      "   {\n",
      "    \"url\": \"http://twitter.com/search?q=Mamamoo\", \n",
      "    \"query\": \"Mamamoo\", \n",
      "    \"tweet_volume\": 53936, \n",
      "    \"name\": \"Mamamoo\", \n",
      "    \"promoted_content\": null\n",
      "   }, \n",
      "   {\n",
      "    \"url\": \"http://twitter.com/search?q=%23TheRapGame\", \n",
      "    \"query\": \"%23TheRapGame\", \n",
      "    \"tweet_volume\": null, \n",
      "    \"name\": \"#TheRapGame\", \n",
      "    \"promoted_content\": null\n",
      "   }, \n",
      "   {\n",
      "    \"url\": \"http://twitter.com/search?q=%23ThingsWeShouldInvestigate\", \n",
      "    \"query\": \"%23ThingsWeShouldInvestigate\", \n",
      "    \"tweet_volume\": 19078, \n",
      "    \"name\": \"#ThingsWeShouldInvestigate\", \n",
      "    \"promoted_content\": null\n",
      "   }, \n",
      "   {\n",
      "    \"url\": \"http://twitter.com/search?q=%23Bellator174\", \n",
      "    \"query\": \"%23Bellator174\", \n",
      "    \"tweet_volume\": null, \n",
      "    \"name\": \"#Bellator174\", \n",
      "    \"promoted_content\": null\n",
      "   }, \n",
      "   {\n",
      "    \"url\": \"http://twitter.com/search?q=%23IfOnlyIHadnt\", \n",
      "    \"query\": \"%23IfOnlyIHadnt\", \n",
      "    \"tweet_volume\": null, \n",
      "    \"name\": \"#IfOnlyIHadnt\", \n",
      "    \"promoted_content\": null\n",
      "   }, \n",
      "   {\n",
      "    \"url\": \"http://twitter.com/search?q=%23EmeraldCity\", \n",
      "    \"query\": \"%23EmeraldCity\", \n",
      "    \"tweet_volume\": 10478, \n",
      "    \"name\": \"#EmeraldCity\", \n",
      "    \"promoted_content\": null\n",
      "   }, \n",
      "   {\n",
      "    \"url\": \"http://twitter.com/search?q=%23BMovieManiacs\", \n",
      "    \"query\": \"%23BMovieManiacs\", \n",
      "    \"tweet_volume\": null, \n",
      "    \"name\": \"#BMovieManiacs\", \n",
      "    \"promoted_content\": null\n",
      "   }, \n",
      "   {\n",
      "    \"url\": \"http://twitter.com/search?q=%23WhenAnimalsQuote\", \n",
      "    \"query\": \"%23WhenAnimalsQuote\", \n",
      "    \"tweet_volume\": null, \n",
      "    \"name\": \"#WhenAnimalsQuote\", \n",
      "    \"promoted_content\": null\n",
      "   }, \n",
      "   {\n",
      "    \"url\": \"http://twitter.com/search?q=%23YoungFrankenstein\", \n",
      "    \"query\": \"%23YoungFrankenstein\", \n",
      "    \"tweet_volume\": null, \n",
      "    \"name\": \"#YoungFrankenstein\", \n",
      "    \"promoted_content\": null\n",
      "   }, \n",
      "   {\n",
      "    \"url\": \"http://twitter.com/search?q=%23AnaheimDucksGoooaaalll\", \n",
      "    \"query\": \"%23AnaheimDucksGoooaaalll\", \n",
      "    \"tweet_volume\": null, \n",
      "    \"name\": \"#AnaheimDucksGoooaaalll\", \n",
      "    \"promoted_content\": null\n",
      "   }, \n",
      "   {\n",
      "    \"url\": \"http://twitter.com/search?q=%23Reign\", \n",
      "    \"query\": \"%23Reign\", \n",
      "    \"tweet_volume\": null, \n",
      "    \"name\": \"#Reign\", \n",
      "    \"promoted_content\": null\n",
      "   }, \n",
      "   {\n",
      "    \"url\": \"http://twitter.com/search?q=%23SterolineJuneWedding\", \n",
      "    \"query\": \"%23SterolineJuneWedding\", \n",
      "    \"tweet_volume\": 59720, \n",
      "    \"name\": \"#SterolineJuneWedding\", \n",
      "    \"promoted_content\": null\n",
      "   }, \n",
      "   {\n",
      "    \"url\": \"http://twitter.com/search?q=%23McCoyROH\", \n",
      "    \"query\": \"%23McCoyROH\", \n",
      "    \"tweet_volume\": null, \n",
      "    \"name\": \"#McCoyROH\", \n",
      "    \"promoted_content\": null\n",
      "   }, \n",
      "   {\n",
      "    \"url\": \"http://twitter.com/search?q=%23Dateline\", \n",
      "    \"query\": \"%23Dateline\", \n",
      "    \"tweet_volume\": null, \n",
      "    \"name\": \"#Dateline\", \n",
      "    \"promoted_content\": null\n",
      "   }, \n",
      "   {\n",
      "    \"url\": \"http://twitter.com/search?q=%23AC360\", \n",
      "    \"query\": \"%23AC360\", \n",
      "    \"tweet_volume\": null, \n",
      "    \"name\": \"#AC360\", \n",
      "    \"promoted_content\": null\n",
      "   }, \n",
      "   {\n",
      "    \"url\": \"http://twitter.com/search?q=%23BringIt\", \n",
      "    \"query\": \"%23BringIt\", \n",
      "    \"tweet_volume\": null, \n",
      "    \"name\": \"#BringIt\", \n",
      "    \"promoted_content\": null\n",
      "   }, \n",
      "   {\n",
      "    \"url\": \"http://twitter.com/search?q=%23FridayNight\", \n",
      "    \"query\": \"%23FridayNight\", \n",
      "    \"tweet_volume\": null, \n",
      "    \"name\": \"#FridayNight\", \n",
      "    \"promoted_content\": null\n",
      "   }, \n",
      "   {\n",
      "    \"url\": \"http://twitter.com/search?q=%23BKNatUTA\", \n",
      "    \"query\": \"%23BKNatUTA\", \n",
      "    \"tweet_volume\": null, \n",
      "    \"name\": \"#BKNatUTA\", \n",
      "    \"promoted_content\": null\n",
      "   }, \n",
      "   {\n",
      "    \"url\": \"http://twitter.com/search?q=%23littlemixboston\", \n",
      "    \"query\": \"%23littlemixboston\", \n",
      "    \"tweet_volume\": null, \n",
      "    \"name\": \"#littlemixboston\", \n",
      "    \"promoted_content\": null\n",
      "   }, \n",
      "   {\n",
      "    \"url\": \"http://twitter.com/search?q=%23Grimm\", \n",
      "    \"query\": \"%23Grimm\", \n",
      "    \"tweet_volume\": null, \n",
      "    \"name\": \"#Grimm\", \n",
      "    \"promoted_content\": null\n",
      "   }, \n",
      "   {\n",
      "    \"url\": \"http://twitter.com/search?q=%23MaineCelebration\", \n",
      "    \"query\": \"%23MaineCelebration\", \n",
      "    \"tweet_volume\": 513462, \n",
      "    \"name\": \"#MaineCelebration\", \n",
      "    \"promoted_content\": null\n",
      "   }, \n",
      "   {\n",
      "    \"url\": \"http://twitter.com/search?q=%23UncommonSenseLive\", \n",
      "    \"query\": \"%23UncommonSenseLive\", \n",
      "    \"tweet_volume\": null, \n",
      "    \"name\": \"#UncommonSenseLive\", \n",
      "    \"promoted_content\": null\n",
      "   }, \n",
      "   {\n",
      "    \"url\": \"http://twitter.com/search?q=%23SleepyHollow\", \n",
      "    \"query\": \"%23SleepyHollow\", \n",
      "    \"tweet_volume\": null, \n",
      "    \"name\": \"#SleepyHollow\", \n",
      "    \"promoted_content\": null\n",
      "   }, \n",
      "   {\n",
      "    \"url\": \"http://twitter.com/search?q=%23HawaiiSB\", \n",
      "    \"query\": \"%23HawaiiSB\", \n",
      "    \"tweet_volume\": null, \n",
      "    \"name\": \"#HawaiiSB\", \n",
      "    \"promoted_content\": null\n",
      "   }, \n",
      "   {\n",
      "    \"url\": \"http://twitter.com/search?q=%23RAISETHECAT\", \n",
      "    \"query\": \"%23RAISETHECAT\", \n",
      "    \"tweet_volume\": null, \n",
      "    \"name\": \"#RAISETHECAT\", \n",
      "    \"promoted_content\": null\n",
      "   }\n",
      "  ], \n",
      "  \"as_of\": \"2017-03-04T06:43:18Z\", \n",
      "  \"locations\": [\n",
      "   {\n",
      "    \"woeid\": 23424977, \n",
      "    \"name\": \"United States\"\n",
      "   }\n",
      "  ]\n",
      " }\n",
      "]\n"
     ]
    }
   ],
   "source": [
    "import json\n",
    "\n",
    "print json.dumps(world_trends, indent=1)\n",
    "print\n",
    "print json.dumps(us_trends, indent=1)"
   ]
  },
  {
   "cell_type": "markdown",
   "metadata": {
    "slideshow": {
     "slide_type": "slide"
    }
   },
   "source": [
    "### 内容索引"
   ]
  },
  {
   "cell_type": "code",
   "execution_count": 17,
   "metadata": {
    "collapsed": false,
    "slideshow": {
     "slide_type": "fragment"
    }
   },
   "outputs": [
    {
     "data": {
      "text/plain": [
       "u'#MaineCelebration'"
      ]
     },
     "execution_count": 17,
     "metadata": {},
     "output_type": "execute_result"
    }
   ],
   "source": [
    "world_trends[0][\"trends\"][0][\"name\"]"
   ]
  },
  {
   "cell_type": "markdown",
   "metadata": {
    "slideshow": {
     "slide_type": "slide"
    }
   },
   "source": [
    "## 3 计算交集"
   ]
  },
  {
   "cell_type": "code",
   "execution_count": 18,
   "metadata": {
    "collapsed": false,
    "slideshow": {
     "slide_type": "fragment"
    }
   },
   "outputs": [
    {
     "name": "stdout",
     "output_type": "stream",
     "text": [
      "set([u'#WeLoveYouAriana', u'#LivePD', u'#SterolineJuneWedding', u'#UnusualLuckyCharms', u'#PORvMIN', u'#ScareYourNeighborAwayBy', u'Patty Mills', u'#MaineCelebration', u'#TheRapGame', u'#Bellator174'])\n"
     ]
    }
   ],
   "source": [
    "world_trends_set = set([trend['name'] \n",
    "                        for trend in world_trends[0]['trends']])\n",
    "\n",
    "us_trends_set = set([trend['name'] \n",
    "                     for trend in us_trends[0]['trends']]) \n",
    "\n",
    "common_trends = world_trends_set.intersection(us_trends_set)\n",
    "\n",
    "print common_trends"
   ]
  },
  {
   "cell_type": "code",
   "execution_count": 19,
   "metadata": {
    "collapsed": false,
    "slideshow": {
     "slide_type": "fragment"
    }
   },
   "outputs": [
    {
     "name": "stdout",
     "output_type": "stream",
     "text": [
      "set([u'#WeLoveYouAriana', u'#LivePD', u'#SterolineJuneWedding', u'#UnusualLuckyCharms', u'#PORvMIN', u'#ScareYourNeighborAwayBy', u'Patty Mills', u'#MaineCelebration', u'#TheRapGame', u'#Bellator174'])\n"
     ]
    }
   ],
   "source": [
    "world_trends_set = set([trend['name'] \n",
    "                        for trend in world_trends[0]['trends']])\n",
    "\n",
    "us_trends_set = set([trend['name'] \n",
    "                     for trend in us_trends[0]['trends']]) \n",
    "\n",
    "common_trends = world_trends_set & us_trends_set #合集 |，差集 -\n",
    "\n",
    "print common_trends"
   ]
  },
  {
   "cell_type": "markdown",
   "metadata": {
    "slideshow": {
     "slide_type": "slide"
    }
   },
   "source": [
    "### 交集索引"
   ]
  },
  {
   "cell_type": "code",
   "execution_count": 20,
   "metadata": {
    "collapsed": false,
    "slideshow": {
     "slide_type": "fragment"
    }
   },
   "outputs": [
    {
     "ename": "TypeError",
     "evalue": "'set' object does not support indexing",
     "output_type": "error",
     "traceback": [
      "\u001b[0;31m---------------------------------------------------------------------------\u001b[0m",
      "\u001b[0;31mTypeError\u001b[0m                                 Traceback (most recent call last)",
      "\u001b[0;32m<ipython-input-20-83e08ede30a8>\u001b[0m in \u001b[0;36m<module>\u001b[0;34m()\u001b[0m\n\u001b[0;32m----> 1\u001b[0;31m \u001b[0mcommon_trends\u001b[0m\u001b[1;33m[\u001b[0m\u001b[1;36m1\u001b[0m\u001b[1;33m]\u001b[0m\u001b[1;33m\u001b[0m\u001b[0m\n\u001b[0m",
      "\u001b[0;31mTypeError\u001b[0m: 'set' object does not support indexing"
     ]
    }
   ],
   "source": [
    "common_trends[1]"
   ]
  },
  {
   "cell_type": "code",
   "execution_count": 22,
   "metadata": {
    "collapsed": true,
    "slideshow": {
     "slide_type": "fragment"
    }
   },
   "outputs": [],
   "source": [
    "common_trens_li = list(common_trends)"
   ]
  },
  {
   "cell_type": "code",
   "execution_count": 23,
   "metadata": {
    "collapsed": false,
    "slideshow": {
     "slide_type": "fragment"
    }
   },
   "outputs": [
    {
     "data": {
      "text/plain": [
       "u'#LivePD'"
      ]
     },
     "execution_count": 23,
     "metadata": {},
     "output_type": "execute_result"
    }
   ],
   "source": [
    "common_trens_li[1]"
   ]
  },
  {
   "cell_type": "markdown",
   "metadata": {
    "slideshow": {
     "slide_type": "slide"
    }
   },
   "source": [
    "## 4 搜索推文"
   ]
  },
  {
   "cell_type": "code",
   "execution_count": 64,
   "metadata": {
    "collapsed": false,
    "slideshow": {
     "slide_type": "fragment"
    }
   },
   "outputs": [
    {
     "name": "stdout",
     "output_type": "stream",
     "text": [
      "Length of statuses 100\n",
      "Length of statuses 200\n",
      "Length of statuses 300\n",
      "Length of statuses 400\n",
      "Length of statuses 500\n",
      "{\n",
      " \"contributors\": null, \n",
      " \"truncated\": false, \n",
      " \"text\": \"Kellyanne Conway: 'alternative facts' was my Oscars blunder: Senior White House adviser says media\\u2026 https://t.co/cR8RmjAN8w | #Election2016\", \n",
      " \"is_quote_status\": false, \n",
      " \"in_reply_to_status_id\": null, \n",
      " \"id\": 837932052590665729, \n",
      " \"favorite_count\": 0, \n",
      " \"entities\": {\n",
      "  \"symbols\": [], \n",
      "  \"user_mentions\": [], \n",
      "  \"hashtags\": [\n",
      "   {\n",
      "    \"indices\": [\n",
      "     126, \n",
      "     139\n",
      "    ], \n",
      "    \"text\": \"Election2016\"\n",
      "   }\n",
      "  ], \n",
      "  \"urls\": [\n",
      "   {\n",
      "    \"url\": \"https://t.co/cR8RmjAN8w\", \n",
      "    \"indices\": [\n",
      "     100, \n",
      "     123\n",
      "    ], \n",
      "    \"expanded_url\": \"http://m.tbnn.it/NXR2Dy\", \n",
      "    \"display_url\": \"m.tbnn.it/NXR2Dy\"\n",
      "   }\n",
      "  ]\n",
      " }, \n",
      " \"retweeted\": false, \n",
      " \"coordinates\": null, \n",
      " \"source\": \"<a href=\\\"https://dlvrit.com/\\\" rel=\\\"nofollow\\\">dlvr.it</a>\", \n",
      " \"in_reply_to_screen_name\": null, \n",
      " \"in_reply_to_user_id\": null, \n",
      " \"retweet_count\": 0, \n",
      " \"id_str\": \"837932052590665729\", \n",
      " \"favorited\": false, \n",
      " \"user\": {\n",
      "  \"follow_request_sent\": false, \n",
      "  \"has_extended_profile\": false, \n",
      "  \"profile_use_background_image\": true, \n",
      "  \"default_profile_image\": false, \n",
      "  \"id\": 3400085381, \n",
      "  \"profile_background_image_url_https\": \"https://abs.twimg.com/images/themes/theme1/bg.png\", \n",
      "  \"verified\": false, \n",
      "  \"translator_type\": \"none\", \n",
      "  \"profile_text_color\": \"333333\", \n",
      "  \"profile_image_url_https\": \"https://pbs.twimg.com/profile_images/627847403903713280/GytiTyf7_normal.png\", \n",
      "  \"profile_sidebar_fill_color\": \"DDEEF6\", \n",
      "  \"entities\": {\n",
      "   \"url\": {\n",
      "    \"urls\": [\n",
      "     {\n",
      "      \"url\": \"http://t.co/7mc5jcuFWs\", \n",
      "      \"indices\": [\n",
      "       0, \n",
      "       22\n",
      "      ], \n",
      "      \"expanded_url\": \"http://polsnews.com/hawaii/\", \n",
      "      \"display_url\": \"polsnews.com/hawaii/\"\n",
      "     }\n",
      "    ]\n",
      "   }, \n",
      "   \"description\": {\n",
      "    \"urls\": [\n",
      "     {\n",
      "      \"url\": \"https://t.co/d6yscYvyh0\", \n",
      "      \"indices\": [\n",
      "       71, \n",
      "       94\n",
      "      ], \n",
      "      \"expanded_url\": \"http://POLSNews.com\", \n",
      "      \"display_url\": \"POLSNews.com\"\n",
      "     }\n",
      "    ]\n",
      "   }\n",
      "  }, \n",
      "  \"followers_count\": 231, \n",
      "  \"profile_sidebar_border_color\": \"C0DEED\", \n",
      "  \"id_str\": \"3400085381\", \n",
      "  \"profile_background_color\": \"C0DEED\", \n",
      "  \"listed_count\": 10, \n",
      "  \"is_translation_enabled\": false, \n",
      "  \"utc_offset\": null, \n",
      "  \"statuses_count\": 6217, \n",
      "  \"description\": \"The most important news about politics in Hawaii, one of 100 cities of https://t.co/d6yscYvyh0\", \n",
      "  \"friends_count\": 488, \n",
      "  \"location\": \"Hawaii, HI\", \n",
      "  \"profile_link_color\": \"1DA1F2\", \n",
      "  \"profile_image_url\": \"http://pbs.twimg.com/profile_images/627847403903713280/GytiTyf7_normal.png\", \n",
      "  \"following\": false, \n",
      "  \"geo_enabled\": false, \n",
      "  \"profile_banner_url\": \"https://pbs.twimg.com/profile_banners/3400085381/1438770115\", \n",
      "  \"profile_background_image_url\": \"http://abs.twimg.com/images/themes/theme1/bg.png\", \n",
      "  \"screen_name\": \"POLSHawaii\", \n",
      "  \"lang\": \"en\", \n",
      "  \"profile_background_tile\": false, \n",
      "  \"favourites_count\": 0, \n",
      "  \"name\": \"Politics Hawaii\", \n",
      "  \"notifications\": false, \n",
      "  \"url\": \"http://t.co/7mc5jcuFWs\", \n",
      "  \"created_at\": \"Sun Aug 02 14:20:46 +0000 2015\", \n",
      "  \"contributors_enabled\": false, \n",
      "  \"time_zone\": null, \n",
      "  \"protected\": false, \n",
      "  \"default_profile\": true, \n",
      "  \"is_translator\": false\n",
      " }, \n",
      " \"geo\": null, \n",
      " \"in_reply_to_user_id_str\": null, \n",
      " \"possibly_sensitive\": false, \n",
      " \"lang\": \"en\", \n",
      " \"created_at\": \"Sat Mar 04 07:45:44 +0000 2017\", \n",
      " \"in_reply_to_status_id_str\": null, \n",
      " \"place\": null, \n",
      " \"metadata\": {\n",
      "  \"iso_language_code\": \"en\", \n",
      "  \"result_type\": \"recent\"\n",
      " }\n",
      "}\n"
     ]
    }
   ],
   "source": [
    "# Import unquote to prevent url encoding errors in next_results\n",
    "from urllib import unquote\n",
    "\n",
    "# XXX: Set this variable to a trending topic, \n",
    "# or anything else for that matter. The example query below\n",
    "# was a trending topic when this content was being developed\n",
    "# and is used throughout the remainder of this chapter.\n",
    "\n",
    "q = '#Election2016' \n",
    "\n",
    "count = 100\n",
    "\n",
    "# See https://dev.twitter.com/docs/api/1.1/get/search/tweets\n",
    "\n",
    "search_results = twitter_api.search.tweets(q=q, count=count)\n",
    "\n",
    "statuses = search_results['statuses']\n",
    "\n",
    "\n",
    "# Iterate through 5 more batches of results by following the cursor\n",
    "\n",
    "for _ in range(5):\n",
    "    print \"Length of statuses\", len(statuses)\n",
    "    try:\n",
    "        next_results = search_results['search_metadata']['next_results']\n",
    "    except KeyError, e: # No more results when next_results doesn't exist\n",
    "        break\n",
    "        \n",
    "    # Create a dictionary from next_results, which has the following form:\n",
    "    # ?max_id=313519052523986943&q=NCAA&include_entities=1\n",
    "    kwargs = dict([ kv.split('=') for kv in unquote(next_results[1:]).split(\"&\") ])\n",
    "    \n",
    "    search_results = twitter_api.search.tweets(**kwargs)\n",
    "    statuses += search_results['statuses']\n",
    "\n",
    "# Show one sample search result by slicing the list...\n",
    "print json.dumps(statuses[0], indent=1)"
   ]
  },
  {
   "cell_type": "markdown",
   "metadata": {
    "slideshow": {
     "slide_type": "slide"
    }
   },
   "source": [
    "### 结果索引"
   ]
  },
  {
   "cell_type": "code",
   "execution_count": 30,
   "metadata": {
    "collapsed": false,
    "slideshow": {
     "slide_type": "fragment"
    }
   },
   "outputs": [
    {
     "data": {
      "text/plain": [
       "{u'completed_in': 0.232,\n",
       " u'count': 100,\n",
       " u'max_id': 837750192694710271L,\n",
       " u'max_id_str': u'837750192694710271',\n",
       " u'next_results': u'?max_id=837726470873182214&q=%23Election2016&count=100&include_entities=1',\n",
       " u'query': u'%23Election2016',\n",
       " u'refresh_url': u'?since_id=837750192694710271&q=%23Election2016&include_entities=1',\n",
       " u'since_id': 0,\n",
       " u'since_id_str': u'0'}"
      ]
     },
     "execution_count": 30,
     "metadata": {},
     "output_type": "execute_result"
    }
   ],
   "source": [
    "search_results[\"search_metadata\"]"
   ]
  },
  {
   "cell_type": "code",
   "execution_count": 32,
   "metadata": {
    "collapsed": false,
    "slideshow": {
     "slide_type": "fragment"
    }
   },
   "outputs": [
    {
     "data": {
      "text/plain": [
       "{u'count': u'100',\n",
       " u'include_entities': u'1',\n",
       " u'max_id': u'837750192694710271',\n",
       " u'q': u'#Election2016'}"
      ]
     },
     "execution_count": 32,
     "metadata": {},
     "output_type": "execute_result"
    }
   ],
   "source": [
    "kwargs"
   ]
  },
  {
   "cell_type": "markdown",
   "metadata": {
    "slideshow": {
     "slide_type": "slide"
    }
   },
   "source": [
    "## 5 提取实体（文本、昵称、主题标签）"
   ]
  },
  {
   "cell_type": "code",
   "execution_count": 68,
   "metadata": {
    "collapsed": false,
    "slideshow": {
     "slide_type": "fragment"
    }
   },
   "outputs": [],
   "source": [
    "status_texts = [ status['text'] \n",
    "                 for status in statuses ]\n",
    "\n",
    "screen_names = [ user_mention['screen_name'] \n",
    "                 for status in statuses\n",
    "                     for user_mention in status['entities']['user_mentions'] ]\n",
    "\n",
    "hashtags = [ hashtag['text'] \n",
    "             for status in statuses\n",
    "                 for hashtag in status['entities']['hashtags'] ]\n",
    "\n",
    "# Compute a collection of all words from all tweets\n",
    "words = [ w \n",
    "          for t in status_texts \n",
    "              for w in t.split() ]"
   ]
  },
  {
   "cell_type": "code",
   "execution_count": 71,
   "metadata": {
    "collapsed": false,
    "slideshow": {
     "slide_type": "fragment"
    }
   },
   "outputs": [
    {
     "name": "stdout",
     "output_type": "stream",
     "text": [
      "[\n",
      " \"Kellyanne Conway: 'alternative facts' was my Oscars blunder: Senior White House adviser says media\\u2026 https://t.co/cR8RmjAN8w | #Election2016\", \n",
      " \"Kellyanne Conway: 'alternative facts' was my Oscars blunder: Senior White House adviser says media\\u2026 https://t.co/mFoM16jxvp | #Election2016\", \n",
      " \"Kellyanne Conway: 'alternative facts' was my Oscars blunder: Senior White House adviser says media\\u2026 https://t.co/N1Y20jtzNI | #Election2016\", \n",
      " \"Kellyanne Conway: 'alternative facts' was my Oscars blunder: Senior White House adviser says media\\u2026 https://t.co/tbBLuR3Wtx | #Election2016\", \n",
      " \"Kellyanne Conway: 'alternative facts' was my Oscars blunder https://t.co/cfttD6e9AU | #Election2016\"\n",
      "]\n",
      "\n",
      "[\n",
      " \"DonaldJTrumpJr\", \n",
      " \"AP\", \n",
      " \"AP\", \n",
      " \"confluence19\", \n",
      " \"HillaryClinton\"\n",
      "]\n",
      "\n",
      "[\n",
      " \"Election2016\", \n",
      " \"Election2016\", \n",
      " \"Election2016\", \n",
      " \"Election2016\", \n",
      " \"Election2016\"\n",
      "]\n",
      "\n",
      "[\n",
      " \"Kellyanne\", \n",
      " \"Conway:\", \n",
      " \"'alternative\", \n",
      " \"facts'\", \n",
      " \"was\"\n",
      "]\n"
     ]
    }
   ],
   "source": [
    "# Explore the first 5 items for each...\n",
    "print json.dumps(status_texts[0:5], indent=1)\n",
    "print\n",
    "print json.dumps(screen_names[0:5], indent=1) \n",
    "print\n",
    "print json.dumps(hashtags[0:5], indent=1)\n",
    "print\n",
    "print json.dumps(words[0:5], indent=1)"
   ]
  },
  {
   "cell_type": "markdown",
   "metadata": {
    "slideshow": {
     "slide_type": "slide"
    }
   },
   "source": [
    "## 6 词频分析"
   ]
  },
  {
   "cell_type": "code",
   "execution_count": 72,
   "metadata": {
    "collapsed": false,
    "slideshow": {
     "slide_type": "subslide"
    }
   },
   "outputs": [
    {
     "name": "stdout",
     "output_type": "stream",
     "text": [
      "[(u'#Election2016', 419), (u'|', 291), (u'House', 226), (u'for', 150), (u'was', 122), (u'my', 118), (u'Georgia', 114), (u'Conway:', 114), (u'endorses', 114), (u'Major', 114)]\n",
      "\n",
      "[(u'oranicuhh', 20), (u'HillaryClinton', 14), (u'realDonaldTrump', 13), (u'rihanna', 8), (u'AP', 6), (u'eyesonfoxorg', 4), (u'grantstern', 4), (u'citunchained', 3), (u'TarotDarrow', 3), (u'confluence19', 3)]\n",
      "\n",
      "[(u'Election2016', 427), (u'election2016', 136), (u'Trump', 22), (u'TrumpRussia', 10), (u'Putin', 10), (u'ImWithHer', 10), (u'GOP', 10), (u'ElectionDay', 9), (u'Russia', 8), (u'hillaryclinton', 6)]\n",
      "\n"
     ]
    }
   ],
   "source": [
    "from collections import Counter\n",
    "\n",
    "for item in [words, screen_names, hashtags]:\n",
    "    c = Counter(item)\n",
    "    print c.most_common()[:10] # top 10\n",
    "    print"
   ]
  },
  {
   "cell_type": "markdown",
   "metadata": {
    "slideshow": {
     "slide_type": "slide"
    }
   },
   "source": [
    "### 词频表"
   ]
  },
  {
   "cell_type": "code",
   "execution_count": 73,
   "metadata": {
    "collapsed": false,
    "slideshow": {
     "slide_type": "fragment"
    }
   },
   "outputs": [
    {
     "name": "stdout",
     "output_type": "stream",
     "text": [
      "+---------------+-------+\n",
      "| Word          | Count |\n",
      "+---------------+-------+\n",
      "| #Election2016 |   419 |\n",
      "| |             |   291 |\n",
      "| House         |   226 |\n",
      "| for           |   150 |\n",
      "| was           |   122 |\n",
      "| my            |   118 |\n",
      "| Georgia       |   114 |\n",
      "| Conway:       |   114 |\n",
      "| endorses      |   114 |\n",
      "| Major         |   114 |\n",
      "+---------------+-------+\n",
      "+-----------------+-------+\n",
      "| Screen Name     | Count |\n",
      "+-----------------+-------+\n",
      "| oranicuhh       |    20 |\n",
      "| HillaryClinton  |    14 |\n",
      "| realDonaldTrump |    13 |\n",
      "| rihanna         |     8 |\n",
      "| AP              |     6 |\n",
      "| eyesonfoxorg    |     4 |\n",
      "| grantstern      |     4 |\n",
      "| citunchained    |     3 |\n",
      "| TarotDarrow     |     3 |\n",
      "| confluence19    |     3 |\n",
      "+-----------------+-------+\n",
      "+----------------+-------+\n",
      "| Hashtag        | Count |\n",
      "+----------------+-------+\n",
      "| Election2016   |   427 |\n",
      "| election2016   |   136 |\n",
      "| Trump          |    22 |\n",
      "| TrumpRussia    |    10 |\n",
      "| Putin          |    10 |\n",
      "| ImWithHer      |    10 |\n",
      "| GOP            |    10 |\n",
      "| ElectionDay    |     9 |\n",
      "| Russia         |     8 |\n",
      "| hillaryclinton |     6 |\n",
      "+----------------+-------+\n"
     ]
    }
   ],
   "source": [
    "from prettytable import PrettyTable\n",
    "\n",
    "for label, data in (('Word', words), \n",
    "                    ('Screen Name', screen_names), \n",
    "                    ('Hashtag', hashtags)):\n",
    "    pt = PrettyTable(field_names=[label, 'Count']) \n",
    "    c = Counter(data)\n",
    "    [ pt.add_row(kv) for kv in c.most_common()[:10] ]\n",
    "    pt.align[label], pt.align['Count'] = 'l', 'r' # Set column alignment\n",
    "    print pt"
   ]
  },
  {
   "cell_type": "markdown",
   "metadata": {
    "slideshow": {
     "slide_type": "slide"
    }
   },
   "source": [
    "## 7 计算词汇丰富程度"
   ]
  },
  {
   "cell_type": "code",
   "execution_count": 123,
   "metadata": {
    "collapsed": false,
    "slideshow": {
     "slide_type": "fragment"
    }
   },
   "outputs": [
    {
     "name": "stdout",
     "output_type": "stream",
     "text": [
      "0.266507013342\n",
      "0.485714285714\n",
      "0.174801362089\n",
      "14.615\n"
     ]
    }
   ],
   "source": [
    "# A function for computing lexical diversity\n",
    "def lexical_diversity(tokens):\n",
    "    return 1.0*len(set(tokens))/len(tokens) \n",
    "\n",
    "# A function for computing the average number of words per tweet\n",
    "def average_words(statuses):\n",
    "    total_words = sum([ len(s.split()) for s in statuses ]) \n",
    "    return 1.0*total_words/len(statuses)\n",
    "\n",
    "print lexical_diversity(words)\n",
    "print lexical_diversity(screen_names)\n",
    "print lexical_diversity(hashtags)\n",
    "print average_words(status_texts)"
   ]
  },
  {
   "cell_type": "markdown",
   "metadata": {
    "slideshow": {
     "slide_type": "slide"
    }
   },
   "source": [
    "## 8 转推分析"
   ]
  },
  {
   "cell_type": "code",
   "execution_count": 124,
   "metadata": {
    "collapsed": false,
    "slideshow": {
     "slide_type": "fragment"
    }
   },
   "outputs": [
    {
     "name": "stdout",
     "output_type": "stream",
     "text": [
      "+-------+-------------+----------------------------------------------------+\n",
      "| Count | Screen Name | Text                                               |\n",
      "+-------+-------------+----------------------------------------------------+\n",
      "| 77953 | oranicuhh   | RT @oranicuhh: Welp. #Election2016                 |\n",
      "|       |             | https://t.co/uRyZ1x9Tlu                            |\n",
      "| 77953 | oranicuhh   | RT @oranicuhh: Welp. #Election2016                 |\n",
      "|       |             | https://t.co/uRyZ1x9Tlu                            |\n",
      "| 77953 | oranicuhh   | RT @oranicuhh: Welp. #Election2016                 |\n",
      "|       |             | https://t.co/uRyZ1x9Tlu                            |\n",
      "| 77953 | oranicuhh   | RT @oranicuhh: Welp. #Election2016                 |\n",
      "|       |             | https://t.co/uRyZ1x9Tlu                            |\n",
      "| 77953 | oranicuhh   | RT @oranicuhh: Welp. #Election2016                 |\n",
      "|       |             | https://t.co/uRyZ1x9Tlu                            |\n",
      "+-------+-------------+----------------------------------------------------+\n"
     ]
    }
   ],
   "source": [
    "retweets = [\n",
    "            # Store out a tuple of these three values ...\n",
    "            (status['retweet_count'], \n",
    "             status['retweeted_status']['user']['screen_name'],\n",
    "             status['text']) \n",
    "            \n",
    "            # ... for each status ...\n",
    "            for status in statuses \n",
    "            \n",
    "            # ... so long as the status meets this condition.\n",
    "                if status.has_key('retweeted_status')\n",
    "           ]\n",
    "\n",
    "# Slice off the first 5 from the sorted results and display each item in the tuple\n",
    "\n",
    "pt = PrettyTable(field_names=['Count', 'Screen Name', 'Text'])\n",
    "[ pt.add_row(row) for row in sorted(retweets, reverse=True)[:5] ]\n",
    "pt.max_width['Text'] = 50\n",
    "pt.align= 'l'\n",
    "print pt"
   ]
  },
  {
   "cell_type": "markdown",
   "metadata": {
    "slideshow": {
     "slide_type": "slide"
    }
   },
   "source": [
    "### 找到转推用户"
   ]
  },
  {
   "cell_type": "code",
   "execution_count": 125,
   "metadata": {
    "collapsed": false,
    "slideshow": {
     "slide_type": "fragment"
    }
   },
   "outputs": [
    {
     "name": "stdout",
     "output_type": "stream",
     "text": [
      "[u'peyoties', u'julesalinas', u'Wassup_kreasr', u'07des13', u'em2wice', u'nottooabi', u'ToxPhanGlabella', u'IsomKameron', u'kaistoe', u'MOlesberg', u'PhantomAtOpera', u'caseydarnell_', u'WYDCUTlE', u'thompsonnnic', u'DanaeGood23', u'thershallbpeace', u'tsunerny', u'andrewski1113', u'grindrmemes', u'shayyyla787']\n"
     ]
    }
   ],
   "source": [
    "# Get the original tweet id for a tweet from its retweeted_status node \n",
    "# and insert it here in place of the sample value that is provided\n",
    "# from the text of the book\n",
    "\n",
    "_retweets = twitter_api.statuses.retweets(id=796240486428250112)\n",
    "print [r['user']['screen_name'] for r in _retweets]"
   ]
  },
  {
   "cell_type": "markdown",
   "metadata": {
    "slideshow": {
     "slide_type": "slide"
    }
   },
   "source": [
    "# 9 画图"
   ]
  },
  {
   "cell_type": "markdown",
   "metadata": {
    "slideshow": {
     "slide_type": "slide"
    }
   },
   "source": [
    "### 词频图"
   ]
  },
  {
   "cell_type": "code",
   "execution_count": 127,
   "metadata": {
    "collapsed": true,
    "slideshow": {
     "slide_type": "fragment"
    }
   },
   "outputs": [],
   "source": [
    "%matplotlib inline"
   ]
  },
  {
   "cell_type": "code",
   "execution_count": 133,
   "metadata": {
    "collapsed": false,
    "slideshow": {
     "slide_type": "fragment"
    }
   },
   "outputs": [
    {
     "data": {
      "text/plain": [
       "<matplotlib.text.Text at 0xf49f4e0>"
      ]
     },
     "execution_count": 133,
     "metadata": {},
     "output_type": "execute_result"
    },
    {
     "data": {
      "image/png": "[encoded data removed]",
      "text/plain": [
       "<matplotlib.figure.Figure at 0xe7dcb70>"
      ]
     },
     "metadata": {},
     "output_type": "display_data"
    }
   ],
   "source": [
    "import matplotlib.pyplot as plt\n",
    "word_counts = sorted(Counter(words).values(), reverse=True)\n",
    "\n",
    "plt.plot(word_counts)\n",
    "plt.ylabel(\"Freq\")\n",
    "plt.xlabel(\"Word Rank\")"
   ]
  },
  {
   "cell_type": "code",
   "execution_count": 134,
   "metadata": {
    "collapsed": false,
    "slideshow": {
     "slide_type": "fragment"
    }
   },
   "outputs": [
    {
     "data": {
      "text/plain": [
       "<matplotlib.text.Text at 0xcb61940>"
      ]
     },
     "execution_count": 134,
     "metadata": {},
     "output_type": "execute_result"
    },
    {
     "data": {
      "image/png": "[encoded data removed]",
      "text/plain": [
       "<matplotlib.figure.Figure at 0xf402358>"
      ]
     },
     "metadata": {},
     "output_type": "display_data"
    }
   ],
   "source": [
    "plt.loglog(word_counts)\n",
    "plt.ylabel(\"Freq\")\n",
    "plt.xlabel(\"Word Rank\")"
   ]
  },
  {
   "cell_type": "markdown",
   "metadata": {
    "slideshow": {
     "slide_type": "slide"
    }
   },
   "source": [
    "### 直方图"
   ]
  },
  {
   "cell_type": "code",
   "execution_count": 136,
   "metadata": {
    "collapsed": false,
    "slideshow": {
     "slide_type": "fragment"
    }
   },
   "outputs": [
    {
     "data": {
      "image/png": "[encoded data removed]",
      "text/plain": [
       "<matplotlib.figure.Figure at 0x10d74240>"
      ]
     },
     "metadata": {},
     "output_type": "display_data"
    },
    {
     "data": {
      "image/png": "[encoded data removed]",
      "text/plain": [
       "<matplotlib.figure.Figure at 0x10d5d8d0>"
      ]
     },
     "metadata": {},
     "output_type": "display_data"
    },
    {
     "data": {
      "image/png": "[encoded data removed]",
      "text/plain": [
       "<matplotlib.figure.Figure at 0x11026a20>"
      ]
     },
     "metadata": {},
     "output_type": "display_data"
    },
    {
     "data": {
      "text/plain": [
       "<matplotlib.figure.Figure at 0x110d1860>"
      ]
     },
     "metadata": {},
     "output_type": "display_data"
    }
   ],
   "source": [
    "for label, data in (('Words', words), \n",
    "                    ('Screen Names', screen_names), \n",
    "                    ('Hashtags', hashtags)):\n",
    "\n",
    "    # Build a frequency map for each set of data\n",
    "    # and plot the values\n",
    "    c = Counter(data)\n",
    "    plt.hist(c.values())\n",
    "    \n",
    "    # Add a title and y-label ...\n",
    "    plt.title(label)\n",
    "    plt.ylabel(\"Number of items in bin\")\n",
    "    plt.xlabel(\"Bins (number of times an item appeared)\")\n",
    "    \n",
    "    # ... and display as a new figure\n",
    "    plt.figure()"
   ]
  },
  {
   "cell_type": "markdown",
   "metadata": {
    "slideshow": {
     "slide_type": "slide"
    }
   },
   "source": [
    "### 转推直方图"
   ]
  },
  {
   "cell_type": "code",
   "execution_count": 135,
   "metadata": {
    "collapsed": false,
    "slideshow": {
     "slide_type": "fragment"
    }
   },
   "outputs": [
    {
     "name": "stdout",
     "output_type": "stream",
     "text": [
      "[4041, 24400, 2, 5, 6, 2, 2121, 1, 77953, 77953, 24, 1, 4, 8, 1, 1, 60339, 1, 46, 42, 42, 77953, 77953, 60339, 60339, 4, 1, 3, 4, 4, 4, 4, 5, 5, 4, 4, 15, 77953, 77953, 77953, 143, 112, 151, 77953, 33, 8, 512, 77953, 77953, 8, 77953, 77953, 77953, 77953, 77953, 77953, 2, 3, 77953, 77953, 2, 77953, 4, 3, 24400, 50, 3, 60339, 60339, 60339, 60339, 60339, 574, 2, 77953, 1, 2, 179, 1, 208, 3, 970, 4, 24400, 5678, 2]\n"
     ]
    },
    {
     "data": {
      "image/png": "[encoded data removed]",
      "text/plain": [
       "<matplotlib.figure.Figure at 0x10d5dcc0>"
      ]
     },
     "metadata": {},
     "output_type": "display_data"
    }
   ],
   "source": [
    "# Using underscores while unpacking values in\n",
    "# a tuple is idiomatic for discarding them\n",
    "\n",
    "counts = [count for count, _, _ in retweets]\n",
    "\n",
    "plt.hist(counts)\n",
    "plt.title(\"Retweets\")\n",
    "plt.xlabel('Bins (number of times retweeted)')\n",
    "plt.ylabel('Number of tweets in bin')\n",
    "\n",
    "print counts"
   ]
  },
  {
   "cell_type": "markdown",
   "metadata": {
    "slideshow": {
     "slide_type": "slide"
    }
   },
   "source": [
    "### 另一种表达"
   ]
  },
  {
   "cell_type": "code",
   "execution_count": 140,
   "metadata": {
    "collapsed": false,
    "slideshow": {
     "slide_type": "fragment"
    }
   },
   "outputs": [
    {
     "name": "stdout",
     "output_type": "stream",
     "text": [
      "[  8.30424747  10.10233841   0.69314718   1.60943791   1.79175947\n",
      "   0.69314718   7.65964295   0.          11.26386136  11.26386136\n",
      "   3.17805383   0.           1.38629436   2.07944154   0.           0.\n",
      "  11.00773394   0.           3.8286414    3.73766962   3.73766962\n",
      "  11.26386136  11.26386136  11.00773394  11.00773394   1.38629436   0.\n",
      "   1.09861229   1.38629436   1.38629436   1.38629436   1.38629436\n",
      "   1.60943791   1.60943791   1.38629436   1.38629436   2.7080502\n",
      "  11.26386136  11.26386136  11.26386136   4.96284463   4.71849887\n",
      "   5.01727984  11.26386136   3.49650756   2.07944154   6.23832463\n",
      "  11.26386136  11.26386136   2.07944154  11.26386136  11.26386136\n",
      "  11.26386136  11.26386136  11.26386136  11.26386136   0.69314718\n",
      "   1.09861229  11.26386136  11.26386136   0.69314718  11.26386136\n",
      "   1.38629436   1.09861229  10.10233841   3.91202301   1.09861229\n",
      "  11.00773394  11.00773394  11.00773394  11.00773394  11.00773394\n",
      "   6.3526294    0.69314718  11.26386136   0.           0.69314718\n",
      "   5.18738581   0.           5.33753808   1.09861229   6.87729607\n",
      "   1.38629436  10.10233841   8.64435434   0.69314718]\n"
     ]
    },
    {
     "data": {
      "image/png": "[encoded data removed]",
      "text/plain": [
       "<matplotlib.figure.Figure at 0x10e63080>"
      ]
     },
     "metadata": {},
     "output_type": "display_data"
    }
   ],
   "source": [
    "# Using underscores while unpacking values in\n",
    "# a tuple is idiomatic for discarding them\n",
    "import numpy as np\n",
    "counts = [count for count, _, _ in retweets]\n",
    "\n",
    "# Taking the log of the *data values* themselves can \n",
    "# often provide quick and valuable insight into the\n",
    "# underlying distribution as well. Try it back on\n",
    "# Example 13 and see if it helps.\n",
    "\n",
    "plt.hist(np.log(counts))\n",
    "plt.title(\"Retweets\")\n",
    "plt.xlabel('Log[Bins (number of times retweeted)]')\n",
    "plt.ylabel('Log[Number of tweets in bin]')\n",
    "\n",
    "print np.log(counts)"
   ]
  },
  {
   "cell_type": "markdown",
   "metadata": {
    "collapsed": true,
    "slideshow": {
     "slide_type": "slide"
    }
   },
   "source": [
    "# <center>Than you for your attention"
   ]
  }
 ],
 "metadata": {
  "anaconda-cloud": {},
  "celltoolbar": "Slideshow",
  "kernelspec": {
   "display_name": "Python [default]",
   "language": "python",
   "name": "python2"
  },
  "language_info": {
   "codemirror_mode": {
    "name": "ipython",
    "version": 2
   },
   "file_extension": ".py",
   "mimetype": "text/x-python",
   "name": "python",
   "nbconvert_exporter": "python",
   "pygments_lexer": "ipython2",
   "version": "2.7.12"
  }
 },
 "nbformat": 4,
 "nbformat_minor": 0
}
